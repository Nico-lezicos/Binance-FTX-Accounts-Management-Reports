{
 "cells": [
  {
   "cell_type": "markdown",
   "metadata": {
    "id": "NG6GP_H-bCGb"
   },
   "source": [
    "# FTX Accounts Management Reports\n",
    "\n",
    "<center><img src=https://cryptologos.cc/logos/ftx-token-ftt-logo.png?v=023 width=\"100\"</center> "
   ]
  },
  {
   "cell_type": "markdown",
   "metadata": {
    "id": "pTHMa_U65WNR"
   },
   "source": [
    "## Welcome\n",
    "This document is the application document to run get the FTX Datas and run FTX Management Reports.\n",
    "\n",
    "This document allow you to download your datas in your computer locally.\n",
    "\n",
    "You can run this document from Google colab or Jupyter Notebook.\n",
    "Setup: check below information\n",
    "Usage : connect local environment, run environment, settings and document\n",
    "\n",
    "Enjoy"
   ]
  },
  {
   "cell_type": "code",
   "execution_count": 1,
   "metadata": {
    "cellView": "form",
    "colab": {
     "base_uri": "https://localhost:8080/",
     "height": 39
    },
    "id": "CVKOLzpBrGkF",
    "outputId": "45363096-c83b-425b-b618-00fc88f268ae",
    "tags": []
   },
   "outputs": [],
   "source": [
    "#@title Last Update\n",
    "# %%html\n",
    "# <marquee style='width: 100%; color: blue;'><b>🚂_/👨🏽‍✈️Nico/_🚋_/V1.0.0-29-09-2022/_🚋_</b></marquee>"
   ]
  },
  {
   "cell_type": "markdown",
   "metadata": {
    "id": "oVh-T-LfbWdQ"
   },
   "source": [
    "## Table of Content"
   ]
  },
  {
   "cell_type": "markdown",
   "metadata": {
    "id": "WlYQWEkRbaLe"
   },
   "source": [
    "- Welcome\n",
    "- Requirements\n",
    "  - Localhost\n",
    "  - Virtual Env\n",
    "  - Jupyter\n",
    "  \n",
    "- Setup\n",
    "  - Workstation infos\n",
    "  - Programs\n",
    "    - Installation\n",
    "    - Start\n",
    "    - Control Versions\n",
    "    - Environment\n",
    "    - Variables & Aliases\n",
    "       - Path\n",
    "\n",
    "\n",
    "- Document chapters\n"
   ]
  },
  {
   "cell_type": "markdown",
   "metadata": {
    "id": "DWigZr5dbakC"
   },
   "source": [
    "# Requirements\n",
    "<center><img src=https://cdn-icons-png.flaticon.com/512/4901/4901662.png width=\"25\"</center>"
   ]
  },
  {
   "cell_type": "markdown",
   "metadata": {
    "id": "zZyowBONbpDf"
   },
   "source": [
    "This requirements are set for the current documents deployment.\n",
    "___\n",
    "- Internet Access\n",
    "- Administrative rights\n",
    "- FTX Account\n",
    "- Sub Accounts (optionnal)\n",
    "- API Account(s) : \"read\" access rights minimum\n",
    "- Make sure your computer has the right time !\n",
    "\n",
    "-Try to set the path in Windows `My Documnent/Trading/Trades-Workspace/`.\n",
    "\n",
    "-Try to set the path in Linux `home/Trades/Trades-Workspace/`.\n",
    "\n",
    "\n",
    "Localhost :\n",
    "- Python v 3.9 : \n",
    "> - Windows : `winget install -e --id Python.Python.3`\n",
    "> - Linux : `sudo apt-get python3`\n",
    "\n",
    ">  - option : inspiration Path Python Windows: `C:\\Users\\<your_username>\\AppData\\Local\\Packages\\PythonSoftwareFoundation.Python.3.<version>\\LocalCache\\local-packages\\Python3<version>\\Scripts ` \n",
    "\n",
    ">>Python's Modules :\n",
    ">>>- apt Update : `sudo apt-get update`\n",
    "- request : `pip install request`\n",
    "- datetime : `pip install datetime`\n",
    "- pandas : `pip install pandas`\n",
    "- matplotlib : `pip install matplotlib`\n",
    "\n",
    "\n",
    "Optional :\n",
    "- Transaction Analisys : `pip install ta`\n",
    "- ciso8601 : `pip install ciso8601`\n",
    "\n",
    "\n",
    ">>Jupyter Server :\n",
    "- Jupyter installation : `pip3 install Jupyter` \n",
    "- Upgrade Jupyter/Googl Colab : `pip3 install --upgrade jupyter_http_over_ws>=0.0.7 && jupyter serverextension enable --py jupyter_http_over_ws`\n",
    "\n",
    "\n",
    "Create manually\n",
    "- Sub-Folders :\n",
    ">- /env\n",
    ">- /database\n",
    ">- /database/ftx/reports\n",
    "\n",
    "- Files :\n",
    ">- /env/Login.env\n",
    ">- /env/Sub Account API keys file : \n",
    ">>- filename  : `<your-sub-account-name>.env` \n",
    ">>>- 1st line :`<your_api_key>`\n",
    ">>>- 2nd line :`<your_api_secret>`\n"
   ]
  },
  {
   "cell_type": "markdown",
   "metadata": {
    "id": "tnGSPcbzQwRS"
   },
   "source": [
    "# Document Setup\n",
    "<center><img src=https://icon-library.com/images/easy-icon-png/easy-icon-png-0.jpg width=\"50\"</center>"
   ]
  },
  {
   "cell_type": "markdown",
   "metadata": {
    "id": "dVdwMq-2LhCk"
   },
   "source": [
    "#### - Easy setup :\n",
    "\n",
    "Start a Python's Virtual-env dedicated to the process, this allow you to run the kernel in a separate environnement.\n",
    "\n",
    "copy this shell command in a `your-venv -startup.sh`, and run it\n"
   ]
  },
  {
   "cell_type": "markdown",
   "metadata": {
    "id": "sqEnOX4-A6kN"
   },
   "source": [
    "- `your-venv-startup.sh` sample Linux file\n",
    "\n",
    "```shell\n",
    "# !/bin/bash\n",
    "echo ~~~~~~~~~~~~~~~~~~~~~~~~~~~~~~~\n",
    "echo      1. Python\n",
    "echo ~~~~~~~~~~~~~~~~~~~~~~~~~~~~~~~\n",
    "\n",
    "apt-get update -y\n",
    "#apt-get install python3.8\n",
    "\n",
    "echo ~~~~~~~~~~~~~~~~~~~~~~~~~~~~~~~\n",
    "echo      2. Pip3\n",
    "echo ~~~~~~~~~~~~~~~~~~~~~~~~~~~~~~~\n",
    "\n",
    "apt-get -y install python3-pip\n",
    "\n",
    "echo ~~~~~~~~~~~~~~~~~~~~~~~~~~~~~~~\n",
    "echo      4. VIRTUAL ENV\n",
    "echo ~~~~~~~~~~~~~~~~~~~~~~~~~~~~~~~\n",
    "\n",
    "apt-get -y update\n",
    "apt-get -y upgrade\n",
    "apt-get -y install python3\n",
    "\n",
    "echo ~~~~~~~~~~~~~~~~~~~~~~~~~~~~~~~\n",
    "echo      5. UPGRADE PIP\n",
    "echo ~~~~~~~~~~~~~~~~~~~~~~~~~~~~~~~\n",
    "\n",
    "# -H pip3 install --upgrade pip\n",
    "apt-get update -y\n",
    "\n",
    "echo ~~~~~~~~~~~~~~~~~~~~~~~~~~~~~~~\n",
    "echo      6. Install VirtualEnv\n",
    "echo ~~~~~~~~~~~~~~~~~~~~~~~~~~~~~~~\n",
    "\n",
    "pip3 install virtualenv -y\n",
    "\n",
    "echo ~~~~~~~~~~~~~~~~~~~~~~~~~~~~~~~\n",
    "echo      7. Deploy VirtualEnv\n",
    "echo ~~~~~~~~~~~~~~~~~~~~~~~~~~~~~~~\n",
    "\n",
    "# ftx client 3.8\n",
    "python3 -m venv \"My-TradeEnv\"\n",
    "\n",
    "#chmod +x \"My-TradeEnv\"\n",
    "#sudo chmod -R a+rwx My-TradeEnv\n",
    "\n",
    "echo ~~~~~~~~~~~~~~~~~~~~~~~~~~~~~~~\n",
    "echo      8. Launch VirtualEnv\n",
    "echo ~~~~~~~~~~~~~~~~~~~~~~~~~~~~~~~\n",
    "\n",
    "source My-TradeEnv/bin/activate\n",
    "\n",
    "echo ~~~~~~~~~~~~~~~~~~~~~~~~~~~~~~~\n",
    "echo      9. Install Jupyter\n",
    "echo ~~~~~~~~~~~~~~~~~~~~~~~~~~~~~~~\n",
    "\n",
    "# **** pip as Non root ****\n",
    "pip3 install jupyter\n",
    "\n",
    "echo ~~~~~~~~~~~~~~~~~~~~~~~~~~~~~~~\n",
    "echo   10. upgrade Jupyter Srvr Ext\n",
    "echo ~~~~~~~~~~~~~~~~~~~~~~~~~~~~~~~\n",
    "\n",
    "pip install --upgrade jupyter_http_over_ws>=0.0.7 && jupyter serverextension enable --py jupyter_http_over_ws\n",
    "\n",
    "# sudo chmod +x '=0.0.7'\n",
    "\n",
    "echo ~~~~~~~~~~~~~~~~~~~~~~~~~~~~~~~~~~~~~~~~~\n",
    "echo   11.Launch Jupyter Web Srvr port: 8183\n",
    "echo ~~~~~~~~~~~~~~~~~~~~~~~~~~~~~~~~~~~~~~~~~\n",
    "\n",
    "# Option: remove `--no-browser`, `--allow-root...--NotebookApp...` to use jupyter locally\n",
    "jupyter notebook --allow-root --NotebookApp.allow_origin='https://colab.research.google.com' --port=8183 --NotebookApp.port_retries=0 --no-browser\n",
    "export JUPYTER_TMP_PID=$!\n",
    "\n",
    "```\n",
    "\n"
   ]
  },
  {
   "cell_type": "code",
   "execution_count": 2,
   "metadata": {
    "cellView": "form",
    "colab": {
     "base_uri": "https://localhost:8080/",
     "height": 34
    },
    "id": "m2Pzv9OfkvAU",
    "outputId": "7d9bec11-6312-4a36-972f-61ab4f2aa902"
   },
   "outputs": [],
   "source": [
    "#@title Startup\n",
    "# %%html\n",
    "# <details>\n",
    "# <summary>Startup</summary>"
   ]
  },
  {
   "cell_type": "markdown",
   "metadata": {
    "id": "bTHr61CZzzEA"
   },
   "source": [
    "- Google Colab option : click connect local environment : paste your Jupyter's `localhost` Path  "
   ]
  },
  {
   "cell_type": "markdown",
   "metadata": {
    "id": "RAlSJlSEIg95"
   },
   "source": [
    "### - Modules python installation :\n",
    "remove `#` to run the cell\n",
    "<center><img src=https://cdn-icons-png.flaticon.com/512/1313/1313837.png width=\"50\"</center>"
   ]
  },
  {
   "cell_type": "code",
   "execution_count": 3,
   "metadata": {
    "cellView": "form",
    "colab": {
     "base_uri": "https://localhost:8080/"
    },
    "id": "WasJwxmVkLSl",
    "outputId": "662551b3-027e-4291-99aa-7689c8a1a51e"
   },
   "outputs": [
    {
     "name": "stdout",
     "output_type": "stream",
     "text": [
      "Requirement already satisfied: pip in c:\\users\\nicol\\documents\\trading\\trades-workspace\\ftx-accounts-management-reports\\startup\\my-tradeenv\\lib\\site-packages (22.2.2)\n"
     ]
    }
   ],
   "source": [
    "#@title - upgrade pip : `sudo pip install --upgrade pip`\n",
    "!pip3 install --upgrade pip"
   ]
  },
  {
   "cell_type": "code",
   "execution_count": 4,
   "metadata": {
    "cellView": "form",
    "colab": {
     "base_uri": "https://localhost:8080/"
    },
    "id": "Bw35hEdN_LAt",
    "outputId": "53da4b6d-7175-4c79-9717-f3dde43fc074"
   },
   "outputs": [
    {
     "name": "stdout",
     "output_type": "stream",
     "text": [
      "Requirement already satisfied: requests in c:\\users\\nicol\\documents\\trading\\trades-workspace\\ftx-accounts-management-reports\\startup\\my-tradeenv\\lib\\site-packages (2.28.1)\n",
      "Requirement already satisfied: certifi>=2017.4.17 in c:\\users\\nicol\\documents\\trading\\trades-workspace\\ftx-accounts-management-reports\\startup\\my-tradeenv\\lib\\site-packages (from requests) (2022.9.24)\n",
      "Requirement already satisfied: idna<4,>=2.5 in c:\\users\\nicol\\documents\\trading\\trades-workspace\\ftx-accounts-management-reports\\startup\\my-tradeenv\\lib\\site-packages (from requests) (3.4)\n",
      "Requirement already satisfied: urllib3<1.27,>=1.21.1 in c:\\users\\nicol\\documents\\trading\\trades-workspace\\ftx-accounts-management-reports\\startup\\my-tradeenv\\lib\\site-packages (from requests) (1.26.12)\n",
      "Requirement already satisfied: charset-normalizer<3,>=2 in c:\\users\\nicol\\documents\\trading\\trades-workspace\\ftx-accounts-management-reports\\startup\\my-tradeenv\\lib\\site-packages (from requests) (2.1.1)\n"
     ]
    }
   ],
   "source": [
    "#@title - Module : `pip install requests`\n",
    "!pip3 install requests"
   ]
  },
  {
   "cell_type": "code",
   "execution_count": 5,
   "metadata": {
    "cellView": "form",
    "colab": {
     "base_uri": "https://localhost:8080/"
    },
    "id": "lLF-3GvSto2l",
    "outputId": "a11d4126-f42e-481c-bcb7-263da1350d19"
   },
   "outputs": [
    {
     "name": "stdout",
     "output_type": "stream",
     "text": [
      "Requirement already satisfied: datetime in c:\\users\\nicol\\documents\\trading\\trades-workspace\\ftx-accounts-management-reports\\startup\\my-tradeenv\\lib\\site-packages (4.7)\n",
      "Requirement already satisfied: zope.interface in c:\\users\\nicol\\documents\\trading\\trades-workspace\\ftx-accounts-management-reports\\startup\\my-tradeenv\\lib\\site-packages (from datetime) (5.4.0)\n",
      "Requirement already satisfied: pytz in c:\\users\\nicol\\documents\\trading\\trades-workspace\\ftx-accounts-management-reports\\startup\\my-tradeenv\\lib\\site-packages (from datetime) (2022.2.1)\n",
      "Requirement already satisfied: setuptools in c:\\users\\nicol\\documents\\trading\\trades-workspace\\ftx-accounts-management-reports\\startup\\my-tradeenv\\lib\\site-packages (from zope.interface->datetime) (58.1.0)\n"
     ]
    }
   ],
   "source": [
    "#@title - Module : `pip install datetime`\n",
    "!pip3 install datetime"
   ]
  },
  {
   "cell_type": "code",
   "execution_count": null,
   "metadata": {
    "colab": {
     "base_uri": "https://localhost:8080/"
    },
    "id": "dYTAcTlocCn7",
    "outputId": "8692f118-30aa-450b-9622-21406dc22d23"
   },
   "outputs": [],
   "source": [
    "#@title - Intalls Module :`pip install pandas`\n",
    "!pip install pandas"
   ]
  },
  {
   "cell_type": "code",
   "execution_count": null,
   "metadata": {
    "colab": {
     "base_uri": "https://localhost:8080/"
    },
    "id": "wGN6hRw3TAW8",
    "outputId": "ab0a9337-c9a7-41ca-fc7e-11fe7be9e59c"
   },
   "outputs": [],
   "source": [
    "#@title - Install Module : `pip install matplotlib`\n",
    "!pip install matplotlib"
   ]
  },
  {
   "cell_type": "markdown",
   "metadata": {
    "id": "E-gBsDaG6gRv"
   },
   "source": [
    "## - DEPRECATED :"
   ]
  },
  {
   "cell_type": "code",
   "execution_count": null,
   "metadata": {
    "cellView": "form",
    "colab": {
     "base_uri": "https://localhost:8080/"
    },
    "id": "zQ7qf2cGLN4x",
    "outputId": "5e327930-89d4-4764-9f09-0d3bdfba71e9"
   },
   "outputs": [],
   "source": [
    "#@title - Get python version  : `python -V`\n",
    "#!python --V\n",
    "import sys\n",
    "print(sys.version)"
   ]
  },
  {
   "cell_type": "code",
   "execution_count": null,
   "metadata": {
    "cellView": "form",
    "id": "UE5CfSPBLpuZ"
   },
   "outputs": [],
   "source": [
    "#@title - Install python venv 3.9 : `sudo apt-get install python3.9-venv`\n",
    "# !sudo apt-get install python3.9-venv -y"
   ]
  },
  {
   "cell_type": "markdown",
   "metadata": {
    "id": "5_0OOmo6oWPe"
   },
   "source": [
    "## **Environment**\n",
    "<center><img src=https://cdn-icons-png.flaticon.com/512/1461/1461141.png width=\"50\"</center>"
   ]
  },
  {
   "cell_type": "code",
   "execution_count": null,
   "metadata": {
    "cellView": "form",
    "colab": {
     "base_uri": "https://localhost:8080/"
    },
    "id": "I3ibkFrOJY8g",
    "outputId": "6ea8ef90-97cf-4b5c-cc52-6bc736a5f5c4"
   },
   "outputs": [],
   "source": [
    "#@title - Check OS :\n",
    "import platform\n",
    "\n",
    "if platform.system() == 'Windows':\n",
    "    print(f'Your Computer runs :', platform.system())\n",
    "    !set PATH os.path.dirname(sys.executable)\n",
    "else:\n",
    "    print(\"it might be a Linux\")\n"
   ]
  },
  {
   "cell_type": "markdown",
   "metadata": {
    "id": "eBXDZj-zUGb1"
   },
   "source": [
    "### Variables & Aliases"
   ]
  },
  {
   "cell_type": "code",
   "execution_count": null,
   "metadata": {
    "cellView": "form",
    "colab": {
     "base_uri": "https://localhost:8080/"
    },
    "id": "vJOD9C14XAas",
    "outputId": "4089a872-a228-4456-8794-c08dad3c1060"
   },
   "outputs": [],
   "source": [
    "#@title - who am I :\n",
    "import os\n",
    "from os.path import expanduser\n",
    "\n",
    "if platform.system() == 'Windows':\n",
    "  home_directory = expanduser(\"~\")\n",
    "  print(f'Your local path :', home_directory)\n",
    "\n",
    "else:\n",
    "  home_directory = expanduser(\"~\")\n",
    "# TBC\n",
    "  print(os.path.expanduser('~'))\n",
    "  print(os.environ['HOME'])\n",
    "  # print('Where am I ? : ')\n",
    "  # !echo $HOME\n",
    "\n",
    "  print('Who am I ? : ')\n",
    "  !whoami"
   ]
  },
  {
   "cell_type": "code",
   "execution_count": null,
   "metadata": {
    "cellView": "form",
    "id": "hr6FaDZZXvDp"
   },
   "outputs": [],
   "source": [
    "#@title - set Variables :\n",
    "\n",
    "USER_FOLDER = home_directory                        # current user drive\n",
    "PROJECT_FOLDER = 'FTX-Accounts-Management-Reports'  # Not too long\n",
    "exchange = 'ftx'"
   ]
  },
  {
   "cell_type": "markdown",
   "metadata": {
    "id": "gT6S02QYlpto"
   },
   "source": [
    "### - Path"
   ]
  },
  {
   "cell_type": "code",
   "execution_count": null,
   "metadata": {
    "cellView": "form",
    "colab": {
     "base_uri": "https://localhost:8080/"
    },
    "id": "lg6AZWE2YtIC",
    "jupyter": {
     "source_hidden": true
    },
    "outputId": "c2313280-067e-45de-cf7e-c9eb3b9fc08e",
    "tags": []
   },
   "outputs": [],
   "source": [
    "#@title - Create the path :\n",
    "\n",
    "import os\n",
    "from os.path import expanduser\n",
    "\n",
    "if platform.system() == 'Windows':\n",
    "  #home_path = \"\\home\\\\\" + USER_FOLDER\n",
    "  home_path = USER_FOLDER\n",
    "  trades_path = USER_FOLDER + \"\\Documents\\Trading\\Trades-Workspace\\\\\"\n",
    "  working_path =  trades_path + PROJECT_FOLDER + \"\\\\\"\n",
    "  reports_path =  working_path + \"database\" + \"\\\\\" + exchange + \"\\\\\" + \"reports\" +\"\\\\\"\n",
    "  env_path =  working_path + \"env\" + \"\\\\\"\n",
    "\n",
    "else:\n",
    "  home_path = home_directory\n",
    "  trades_path = home_path + \"/Documents/Trades/Trades-Workspace/\"\n",
    "  working_path =  trades_path + PROJECT_FOLDER + \"/\"\n",
    "  reports_path =  working_path + \"database/\" + exchange + \"/reports\" + \"/\"\n",
    "  env_path =  working_path + \"env\" + \"/\"\n",
    "\n",
    "\n",
    "%whos\n",
    "\n",
    "print(f'reports', reports_path)"
   ]
  },
  {
   "cell_type": "markdown",
   "metadata": {
    "id": "NZP2MlnVPair"
   },
   "source": [
    "### - Directories"
   ]
  },
  {
   "cell_type": "markdown",
   "metadata": {
    "id": "bclvKmDcnkQ_"
   },
   "source": [
    "#### - Directories Linux"
   ]
  },
  {
   "cell_type": "code",
   "execution_count": null,
   "metadata": {
    "cellView": "form",
    "colab": {
     "base_uri": "https://localhost:8080/"
    },
    "id": "1Dpqvoimnnwd",
    "jupyter": {
     "source_hidden": true
    },
    "outputId": "555c4405-5f4f-4b6e-f5cf-64fc7a1a1595",
    "tags": []
   },
   "outputs": [],
   "source": [
    "#@title Create local Directory\n",
    "%cd $trades_path\n",
    "!mkdir $PROJECT_FOLDER\n",
    "%cd $PROJECT_FOLDER\n",
    "%bookmark working_path $working_path\n",
    "\n",
    "#del $trade-workspace"
   ]
  },
  {
   "cell_type": "code",
   "execution_count": null,
   "metadata": {
    "cellView": "form",
    "colab": {
     "base_uri": "https://localhost:8080/"
    },
    "id": "DLd1vrY6nnwe",
    "outputId": "cf32cfe2-e869-4cdf-d0ad-f54063e8374a"
   },
   "outputs": [],
   "source": [
    "#@title Go to working directory\n",
    "%cd ~\n",
    "%cd working_path\n",
    "!dir"
   ]
  },
  {
   "cell_type": "markdown",
   "metadata": {
    "id": "CJJ8s4fKoPge"
   },
   "source": [
    "### - Where Am I"
   ]
  },
  {
   "cell_type": "code",
   "execution_count": null,
   "metadata": {
    "cellView": "form",
    "colab": {
     "base_uri": "https://localhost:8080/"
    },
    "id": "j76_YB69oTGT",
    "outputId": "83617ef8-7309-4c0d-b364-3441dee7d175"
   },
   "outputs": [],
   "source": [
    "#@title - Where Am I\n",
    "%pwd"
   ]
  },
  {
   "cell_type": "code",
   "execution_count": null,
   "metadata": {
    "cellView": "form",
    "colab": {
     "base_uri": "https://localhost:8080/",
     "height": 17
    },
    "id": "RZXTJgJoltm6",
    "outputId": "ab76eefc-0010-4b04-f985-f69832979f50"
   },
   "outputs": [],
   "source": [
    "#@title  End Setup\n",
    "# %%html\n",
    "# </details>"
   ]
  },
  {
   "cell_type": "markdown",
   "metadata": {
    "id": "6BXH3Ho72tLl"
   },
   "source": [
    "# Document"
   ]
  },
  {
   "cell_type": "markdown",
   "metadata": {
    "id": "Nvi-6Bk7SAAt"
   },
   "source": [
    "1. - Install Python & Jupiter, or Conda, or Venv.\n",
    "2. - create documents processes folders & set your personnal paramters by changing the settings \n",
    "3. - connect the document to your venv\n",
    "4. - run the document & wait\n",
    "5. - Enjoy your Coins !\n",
    "\n",
    "\n",
    "- Sub-Accounts\n",
    "- create a file `/env/SUBList.csv`\n",
    "- set your sub accounts names.\n",
    "\n",
    "Sample:\n",
    "Columns Name :\n",
    "- accountName,\n",
    "- PAIR_NAME\n",
    "- PAIR_SYMBOL\n",
    "- FIATSYMBOL\n",
    "- CRYPTOSYMBOL\n",
    "\n",
    "Optional info:\n",
    ">- SUB_ACC_NAME     <!-- # Options -->\n",
    "- LONG_TRSLD\n",
    "- SHORT_TRSLD\n",
    "- SHORT_MARKUP\n",
    "- LONG_MARKUP \n",
    "- SHORT_PRCT\n",
    "- LONG_PRCT\n",
    "\n",
    "Mandatroy\n",
    "- EXCHANGE"
   ]
  },
  {
   "cell_type": "markdown",
   "metadata": {
    "id": "nq7rrfDx7tKM"
   },
   "source": [
    "## 1. Load Settings :\n",
    "<center><img src=https://www.pngmart.com/files/7/Backup-PNG-Transparent-Image.png width=\"50\"</center>"
   ]
  },
  {
   "cell_type": "markdown",
   "metadata": {
    "id": "_8QPQOlo7tKN"
   },
   "source": [
    "#### Working Directory"
   ]
  },
  {
   "cell_type": "code",
   "execution_count": null,
   "metadata": {
    "cellView": "form",
    "colab": {
     "base_uri": "https://localhost:8080/"
    },
    "id": "PjAlXSqa7tKN",
    "outputId": "1a3f931e-1baa-4573-989d-2253c96bbb8e"
   },
   "outputs": [],
   "source": [
    "#@title Create working directory\n",
    "# # !rmdir 1\n",
    "%cd working_path\n",
    "# !mkdir 1\n",
    "# !sudo chmod +x 1"
   ]
  },
  {
   "cell_type": "code",
   "execution_count": null,
   "metadata": {
    "cellView": "form",
    "colab": {
     "base_uri": "https://localhost:8080/"
    },
    "id": "NlhGaNbq7tKN",
    "outputId": "d8a0aefc-47d0-4976-e886-819433cc1b45"
   },
   "outputs": [],
   "source": [
    "#@title Go to woking directory\n",
    "%cd working_path\n",
    "# cd 1\n",
    "# !dir \"%cd%\"\n",
    "!dir"
   ]
  },
  {
   "cell_type": "markdown",
   "metadata": {
    "id": "8b9C4CVb7tKO"
   },
   "source": [
    "### Context\n",
    "\n"
   ]
  },
  {
   "cell_type": "markdown",
   "metadata": {
    "id": "6uaXEHXnGWAx"
   },
   "source": [
    "### 1.1. - Load Parameters :\n",
    "<center><img src=https://icons-for-free.com/iconfiles/png/512/parameters+icon-1320184417760430130.png width=\"50\"</center>"
   ]
  },
  {
   "cell_type": "code",
   "execution_count": null,
   "metadata": {
    "cellView": "form",
    "id": "OZUbIA_IeMpy"
   },
   "outputs": [],
   "source": [
    "#@title - FTx Read Account's credentials:\n",
    "f=open(env_path+\"Read.env\",\"r\")\n",
    "lines=f.read().splitlines()\n",
    "READ_API_KEY=lines[0]\n",
    "READ_API_SECRET=lines[1]\n",
    "f.close()"
   ]
  },
  {
   "cell_type": "code",
   "execution_count": null,
   "metadata": {
    "cellView": "form",
    "colab": {
     "base_uri": "https://localhost:8080/"
    },
    "id": "qq_N2Z2gjSlp",
    "outputId": "4d01e9a2-3c80-4f0d-ecf2-cc3b02f8ffb0"
   },
   "outputs": [],
   "source": [
    "#@title - Constant Parameters :\n",
    "\n",
    "# General\n",
    "START_DATE = '2022-06-01'\n",
    "START_DATE_CH = \"01 june 2022\"\n",
    "TF = \"1d\"\n",
    "TFH = \"1h\"\n",
    "\n",
    "# SAMPLE PAIR\n",
    "PAIR_NAME = \"ATOMUSDT\"\n",
    "PAIR_SYMBOL = \"ATOM/USDT\"\n",
    "FIATSYMBOL = \"USDT\"\n",
    "CRYPTOSYMBOL = \"ATOM\"\n",
    "#SUB_ACC_NAME = 'Trix_ATOM-USDT'\n",
    "accountName = 'Trix_ATOM-USDT'\n",
    "#EXCHANGE_1 = 'ftx'\n",
    "\n",
    "\n",
    "# API\n",
    "SUB_API_KEY = READ_API_KEY\n",
    "SUB_API_SECRET = READ_API_SECRET\n",
    "\n",
    "print (\"GENERAL\")\n",
    "# print (\"pair : \" + PAIR_NAME)\n",
    "print (\"Start date : \" + START_DATE)\n",
    "print (\"Start date Char : \" + START_DATE_CH)"
   ]
  },
  {
   "cell_type": "markdown",
   "metadata": {
    "id": "n2AU4M2sC7mj"
   },
   "source": [
    "## 2. - FTX Stock Analyse :\n",
    "<center><img src=https://www.pngmart.com/files/7/Stocks-PNG-Transparent-Image.png width=\"130\"</center>"
   ]
  },
  {
   "cell_type": "markdown",
   "metadata": {
    "id": "QFdwlI-hy1pO"
   },
   "source": [
    "#### Working Directory\n",
    "<center><img src=https://cdn3.iconfinder.com/data/icons/seo-marketing-filled-line/88/folder_share_network_root_directory-512.png width=\"40\"</center>"
   ]
  },
  {
   "cell_type": "code",
   "execution_count": null,
   "metadata": {
    "cellView": "form",
    "colab": {
     "base_uri": "https://localhost:8080/"
    },
    "id": "SlvulUwFy1pP",
    "outputId": "2b873a8f-8a16-4b94-d0fc-fb7e94f201f2"
   },
   "outputs": [],
   "source": [
    "#@title Create working directory\n",
    "%cd working_path\n",
    "%cd database\n",
    "!mkdir ftx\n",
    "%cd ftx\n",
    "!mkdir reports"
   ]
  },
  {
   "cell_type": "code",
   "execution_count": null,
   "metadata": {
    "cellView": "form",
    "colab": {
     "base_uri": "https://localhost:8080/"
    },
    "id": "9pjbNnlMy1pP",
    "outputId": "b328d6b8-2126-4bbe-d8af-7c6bb58234d2"
   },
   "outputs": [],
   "source": [
    "#@title Go to woking directory\n",
    "%cd working_path\n",
    "!dir"
   ]
  },
  {
   "cell_type": "markdown",
   "metadata": {
    "id": "ed8ZOlZ877nU"
   },
   "source": [
    "#### 2.1. - Accounts Stock Balance :\n",
    "\n",
    "\n",
    "\n",
    "<center><img src=https://www.pngplay.com/wp-content/uploads/6/Balance-Vector-Background-PNG-Image.png width=\"55\"</center>"
   ]
  },
  {
   "cell_type": "markdown",
   "metadata": {
    "id": "xkHeFRFdcGBd"
   },
   "source": [
    "##### 2.2.1 - Main Account Balance : \n",
    "<center><img src=https://cdn-icons-png.flaticon.com/512/1006/1006547.png width=\"40\"</center>"
   ]
  },
  {
   "cell_type": "markdown",
   "metadata": {
    "id": "g8fqkMBMve2p"
   },
   "source": [
    "###### 2.2.1.1 - Load Main Account Balance : \n",
    "<center><img src=https://www.pngplay.com/wp-content/uploads/6/Balance-Vector-Transparent-Background.png width=\"30\"</center>"
   ]
  },
  {
   "cell_type": "code",
   "execution_count": null,
   "metadata": {
    "cellView": "form",
    "colab": {
     "base_uri": "https://localhost:8080/"
    },
    "id": "BMa7LL82_DXH",
    "outputId": "ae644668-9f6e-4c1c-9b7f-f8037c97a655"
   },
   "outputs": [],
   "source": [
    "#@title - Stock Analysis http: Balance Main Account\n",
    "import time\n",
    "import urllib.parse\n",
    "from typing import Optional, Dict, Any, List\n",
    "import pandas as pd\n",
    "from datetime import datetime\n",
    "from requests import Request, Session, Response\n",
    "import hmac\n",
    "\n",
    "currentDateTime = datetime.now().strftime(\"%y%m%d\")\n",
    "secret = SUB_API_SECRET\n",
    "\n",
    "if os.path.exists(f'{reports_path}Ftx-MA-{currentDateTime}.csv'):\n",
    "    os.remove(f'{reports_path}Ftx-MA-{currentDateTime}.csv')\n",
    "else:\n",
    "    print(\"Can not delete the file as it doesn't exists\")\n",
    "\n",
    "ep = 'https://ftx.com/api/wallet/balances'\n",
    "\n",
    "ts = int(time.time() * 1000)\n",
    "s = Session()\n",
    "request = Request('GET', ep)\n",
    "prepared = request.prepare()\n",
    "\n",
    "signature_payload = f'{ts}{prepared.method}{prepared.path_url}'.encode()\n",
    "if prepared.body:\n",
    "    signature_payload += prepared.body\n",
    "signature = hmac.new(secret.encode(), signature_payload, 'sha256').hexdigest()\n",
    "\n",
    "prepared.headers['FTX-KEY'] = SUB_API_KEY\n",
    "prepared.headers['FTX-SIGN'] = signature\n",
    "prepared.headers['FTX-TS'] = str(ts)\n",
    "\n",
    "response = s.send(prepared)\n",
    "data = response.json()\n",
    "#print(data)\n",
    "\n",
    "df_MA = pd.DataFrame(data)\n",
    "df_MA = pd.DataFrame.from_records(df_MA['result'])\n",
    "df_MA[['accountName']] = 'Main Account'\n",
    "\n",
    "## Export csv\n",
    "df_MA\\\n",
    ".to_csv(f'{reports_path}Ftx-MA-{currentDateTime}.csv'\\\n",
    "      , index = False, mode='a', header=True, encoding='utf-8')\n",
    "\n",
    "print(f'export :')\n",
    "!dir {reports_path}Ftx-MA-{currentDateTime}.csv"
   ]
  },
  {
   "cell_type": "code",
   "execution_count": null,
   "metadata": {
    "cellView": "form",
    "colab": {
     "base_uri": "https://localhost:8080/",
     "height": 1000
    },
    "id": "98z_LFhnUV__",
    "outputId": "c509221f-c61b-4e5e-9cd9-f264fdda029c"
   },
   "outputs": [],
   "source": [
    "#@title - Coins / Main Account:\n",
    "import pandas as pd\n",
    "from datetime import datetime\n",
    "\n",
    "currentDateTime = datetime.now().strftime(\"%y%m%d\")\n",
    "df_MA = pd.read_csv(f'{reports_path}Ftx-MA-{currentDateTime}.csv', header=0, encoding='utf-8', names =['coin', 'total', 'free', 'availableForWithdrawal', 'availableWithoutBorrow', 'usdValue', 'spotBorrow', 'accountName'])\n",
    "\n",
    "df_MA.rename(columns={'coin':'Symbol', 'total':'Quantity', 'usdValue':'Stock-value'}, inplace=True)\n",
    "df_MA = df_MA.sort_values(by=['Stock-value'],ascending=False)\n",
    "df_MA = df_MA[df_MA['Stock-value'] > 0.0]\n",
    "df_MA.reset_index(inplace=True)\n",
    "\n",
    "\n",
    "df_MA = df_MA[['Symbol', 'Quantity', 'Stock-value']].round({'Quantity':2, 'Stock-value':2})\n",
    "df_MA"
   ]
  },
  {
   "cell_type": "code",
   "execution_count": null,
   "metadata": {
    "cellView": "form",
    "colab": {
     "base_uri": "https://localhost:8080/"
    },
    "id": "_muc0JnqPhFh",
    "outputId": "74e48756-c8bb-4591-adb6-29aa5e984a44"
   },
   "outputs": [],
   "source": [
    "#@title - Total Main Account Coins / Main Accounts :\n",
    "import pandas as pd\n",
    "from datetime import datetime\n",
    "\n",
    "currentDateTime = datetime.now().strftime(\"%y%m%d\")\n",
    "df_MA = pd.read_csv(f'{reports_path}Ftx-MA-{currentDateTime}.csv', header=0, encoding='utf-8', names =['coin', 'total', 'free', 'availableForWithdrawal', 'availableWithoutBorrow', 'usdValue', 'spotBorrow', 'accountName'])\n",
    "df_MA.rename(columns={'coin':'Symbol', 'total':'Quantity', 'usdValue':'Stock-value'}, inplace=True)\n",
    "df_MA = df_MA.sort_values(by=['Stock-value'],ascending=False)\n",
    "df_MA.reset_index(inplace=True)\n",
    "\n",
    "sum_MA = df_MA['Stock-value'].sum()\n",
    "print(f'Total Symbol / {FIATSYMBOL} :', round(sum_MA,2))"
   ]
  },
  {
   "cell_type": "markdown",
   "metadata": {
    "id": "0mWcKOFlvkrM"
   },
   "source": [
    "###### 2.2.1.2 - Plot Main Account Balance : \n",
    "\n",
    "<center><img src=https://www.pngplay.com/wp-content/uploads/7/Business-Growth-Chart-PNG-Clipart-Background.png width=\"50\"</center>"
   ]
  },
  {
   "cell_type": "code",
   "execution_count": null,
   "metadata": {
    "cellView": "form",
    "colab": {
     "base_uri": "https://localhost:8080/",
     "height": 420
    },
    "id": "yhizJRqO8ybB",
    "outputId": "3bab1c63-ef1e-4b9b-fbce-cbc4d34b1e58"
   },
   "outputs": [],
   "source": [
    "#@title - Symbol Balance Division : Main account > 1000\n",
    "import matplotlib.pyplot as plt\n",
    "import pandas as pd\n",
    "from datetime import datetime\n",
    "\n",
    "currentDateTime = datetime.now().strftime(\"%y%m%d\")\n",
    "df_MA = pd.read_csv(f'{reports_path}Ftx-MA-{currentDateTime}.csv', header=0, encoding='utf-8', names =['coin', 'total', 'free', 'availableForWithdrawal', 'availableWithoutBorrow', 'usdValue', 'spotBorrow', 'accountName'])\n",
    "df_MA.rename(columns={'coin':'Symbol', 'total':'Quantity', 'usdValue':'Stock-value'}, inplace=True)\n",
    "df_MA = df_MA.sort_values(by=['Stock-value'],ascending=False)\n",
    "df_MA.reset_index(inplace=True)\n",
    "\n",
    "\n",
    "\n",
    "df_MA = df_MA[df_MA['Stock-value'] > 1000]\n",
    "labels = df_MA['Symbol'].tolist()\n",
    "\n",
    "#df_MA.plot(label='Stock Analysis', kind='pie', autopct='%1.0f%%', y='Stock-value', labels=labels, shadow=True, startangle=90, figsize=(7, 7))\n",
    "df_MA.plot(label='FTX MA Stock Analysis', kind='pie', autopct='%1.0f%%', y='Stock-value', labels=labels, shadow=True, startangle=90)\n",
    "\n",
    "plt.title('MA Division',x=0.5, y=0.5)\n",
    "plt.axis('equal')\n",
    "plt.legend().remove()\n",
    "plt.show()"
   ]
  },
  {
   "cell_type": "code",
   "execution_count": null,
   "metadata": {
    "cellView": "form",
    "colab": {
     "base_uri": "https://localhost:8080/",
     "height": 472
    },
    "id": "YUgq9wdH89gg",
    "outputId": "8057db8b-ec99-4d83-caaa-83a8e4b6e953"
   },
   "outputs": [],
   "source": [
    "#@title - Symbol Balance Values : Main Account > 1000\n",
    "import matplotlib.pyplot as plt\n",
    "\n",
    "import pandas as pd\n",
    "from datetime import datetime\n",
    "\n",
    "currentDateTime = datetime.now().strftime(\"%y%m%d\")\n",
    "df_MA = pd.read_csv(f'{reports_path}Ftx-MA-{currentDateTime}.csv', header=0, encoding='utf-8', names =['coin', 'total', 'free', 'availableForWithdrawal', 'availableWithoutBorrow', 'usdValue', 'spotBorrow', 'accountName'])\n",
    "df_MA.rename(columns={'coin':'Symbol', 'total':'Quantity', 'usdValue':'Stock-value'}, inplace=True)\n",
    "df_MA = df_MA.sort_values(by=['Stock-value'],ascending=False)\n",
    "df_MA.reset_index(inplace=True)\n",
    "\n",
    "\n",
    "df_MA = df_MA[df_MA['Stock-value'] > 1000]\n",
    "values = round(df_MA['Stock-value'],2).tolist()\n",
    "bar_labels = df_MA['Symbol'].tolist()\n",
    "coin = df_MA['Symbol'].tolist()\n",
    "\n",
    "\n",
    "# function to add value labels\n",
    "def addlabels(x,y):\n",
    "    for i in range(len(x)):\n",
    "        plt.text(i,y[i],y[i])\n",
    "\n",
    "fig, ax = plt.subplots()\n",
    "\n",
    "data_color = [x / max(values) for x in values]\n",
    "bar_colors = plt.cm.rainbow(data_color)\n",
    "\n",
    "ax.bar(coin, values, label=bar_labels, color=bar_colors)\n",
    "\n",
    "\n",
    "ax.set_ylabel('coin')\n",
    "ax.set_title('Main Account Values')\n",
    "# ax.legend(title='Coin')\n",
    "\n",
    "# calling the function to add value labels\n",
    "addlabels(coin, values)\n",
    "\n",
    "plt.rcParams[\"figure.figsize\"] = (30, 10)\n",
    "plt.autoscale()\n",
    "plt.xlabel('values')\n",
    "\n",
    "\n",
    "plt.show()"
   ]
  },
  {
   "cell_type": "markdown",
   "metadata": {
    "id": "Qi0KMf8bj6n_"
   },
   "source": [
    "##### 2.2.2 -  Sub-Accounts Balances :\n",
    "<center><img src=https://cdn-icons-png.flaticon.com/512/3603/3603785.png width=\"50\"</center>"
   ]
  },
  {
   "cell_type": "markdown",
   "metadata": {
    "id": "I931J5A1vqvp"
   },
   "source": [
    "###### 2.2.2.1 - Load Sub Account Balances : \n",
    "<center><img src=https://www.freeiconspng.com/uploads/libra-png-10.png width=\"50\"</center>"
   ]
  },
  {
   "cell_type": "code",
   "execution_count": null,
   "metadata": {
    "cellView": "form",
    "colab": {
     "base_uri": "https://localhost:8080/"
    },
    "id": "52d-HpbgYdRe",
    "outputId": "7b95736a-a57f-40a8-a5c7-2883aef3d023"
   },
   "outputs": [],
   "source": [
    "#@title - Get subaccounts balances http:\n",
    "import time\n",
    "import urllib.parse\n",
    "from typing import Optional, Dict, Any, List\n",
    "import pandas as pd\n",
    "from requests import Request, Session, Response\n",
    "import hmac\n",
    "\n",
    "\n",
    "myfile = pd.read_csv(env_path + \"SUB_List.csv\",header=0) \n",
    "currentDateTime = datetime.now().strftime(\"%y%m%d\")\n",
    "\n",
    "if os.path.exists(f'{reports_path}Ftx-SA-balances-{currentDateTime}.csv'):\n",
    "    os.remove(f'{reports_path}Ftx-SA-balances-{currentDateTime}.csv')\n",
    "else:\n",
    "    print(\"Can not delete the file as it doesn't exists\")\n",
    "\n",
    "## \n",
    "f=open(env_path + \"Read.env\", \"r\")\n",
    "lines=f.read().splitlines()\n",
    "SUB_API_KEY=lines[0]\n",
    "SUB_API_SECRET=lines[1]\n",
    "\n",
    "\n",
    "_list = []\n",
    "\n",
    "line_count = 0\n",
    "for index, row in myfile.iterrows():\n",
    "  accountName = myfile._get_value(col='accountName', index=line_count)\n",
    "  SUB_ACC_NAME = myfile._get_value(col='SUB_ACC_NAME', index=line_count)\n",
    "  PAIR_SYMBOL = myfile._get_value(col='PAIR_SYMBOL', index=line_count)\n",
    "  FIATSYMBOL = myfile._get_value(col='FIATSYMBOL', index=line_count)\n",
    "  CRYPTOSYMBOL = myfile._get_value(col='CRYPTOSYMBOL', index=line_count)\n",
    "  LONG_TRSLD = myfile._get_value(col='LONG_TRSLD', index=line_count)\n",
    "  SHORT_TRSLD = myfile._get_value(col='SHORT_TRSLD', index=line_count)\n",
    "  SHORT_MARKUP = myfile._get_value(col='SHORT_MARKUP', index=line_count)\n",
    "  LONG_MARKUP = myfile._get_value(col='LONG_MARKUP', index=line_count)\n",
    "\n",
    " \n",
    "  ##\n",
    "  secret = SUB_API_SECRET\n",
    "\n",
    "  ep = 'https://ftx.com/api/subaccounts/' + accountName + '/balances'\n",
    "\n",
    "  ts = int(time.time() * 1000)\n",
    "  s = Session()\n",
    "  request = Request('GET', ep)\n",
    "  prepared = request.prepare()\n",
    "\n",
    "  signature_payload = f'{ts}{prepared.method}{prepared.path_url}'.encode()\n",
    "  if prepared.body:\n",
    "      signature_payload += prepared.body\n",
    "  signature = hmac.new(secret.encode(), signature_payload, 'sha256').hexdigest()\n",
    "\n",
    "  prepared.headers['FTX-KEY'] = SUB_API_KEY\n",
    "  prepared.headers['FTX-SIGN'] = signature\n",
    "  prepared.headers['FTX-TS'] = str(ts)\n",
    "\n",
    "  response = s.send(prepared)\n",
    "  data = response.json()\n",
    "  #print(data)\n",
    "\n",
    "    ##\n",
    "  df_sabalance = pd.DataFrame(data)\n",
    "  df_sabalance = pd.DataFrame.from_records(df_sabalance['result'])\n",
    "  df_sabalance[['accountName']] = accountName\n",
    "  \n",
    "  line_count += 1\n",
    "  \n",
    "  ## Export csv\n",
    "  df_sabalance\\\n",
    "  .to_csv(f'{reports_path}Ftx-SA-balances-{currentDateTime}.csv'\\\n",
    "          , index = False, mode='a', header=False, encoding='utf-8') # False: not include index\n",
    "\n",
    "# coin, total, free, availableForWithdrawal, availableWithoutBorrow, usdValue, spotBorrow, accountName\n",
    "\n",
    "print(f'Succesfull csv export :')\n",
    "!dir {reports_path}Ftx-SA-balances-{currentDateTime}.csv"
   ]
  },
  {
   "cell_type": "code",
   "execution_count": null,
   "metadata": {
    "cellView": "form",
    "colab": {
     "base_uri": "https://localhost:8080/"
    },
    "id": "CYrT4pgbLayI",
    "outputId": "d8307f10-ed65-44d1-c01c-7a187d9f31b0"
   },
   "outputs": [],
   "source": [
    "#@title - Sum value /Sub Account :\n",
    "currentDateTime = datetime.now().strftime(\"%y%m%d\")\n",
    "df_sa_balances = pd.read_csv(f'{reports_path}Ftx-SA-balances-{currentDateTime}.csv', encoding='utf-8', names =['coin', 'total', 'free', 'availableForWithdrawal', 'availableWithoutBorrow', 'usdValue', 'spotBorrow', 'accountName'])\n",
    "df_sa_balances.rename(columns={'coin':'Symbol', 'total':'Quantity', 'usdValue':'Stock-value'}, inplace=True)\n",
    "df_sa_balances = df_sa_balances.loc[df_sa_balances['Stock-value'] > 0 ]\n",
    "\n",
    "accountGroup = df_sa_balances[['Symbol', 'accountName', 'Quantity', 'Stock-value']]\\\n",
    ".groupby(['Symbol']).sum(numeric_only=True)\\\n",
    ".round({'Quantity':2, 'usdvalue':2, 'Stock-value':2})\n",
    "\n",
    "TotalSub = accountGroup['Stock-value'].sum()\n",
    "\n",
    "print(f'Total :', round(TotalSub,2))"
   ]
  },
  {
   "cell_type": "markdown",
   "metadata": {
    "id": "D50Ym2BKFkPs"
   },
   "source": [
    "###### - Coins / Sub-Account Balances : \n",
    "<center><img src=https://pics.clipartpng.com/Gold_Coins_PNG_Clipart-664.png width=\"50\"</center>"
   ]
  },
  {
   "cell_type": "code",
   "execution_count": null,
   "metadata": {
    "cellView": "form",
    "colab": {
     "base_uri": "https://localhost:8080/",
     "height": 574
    },
    "id": "StFmrOjJLGCt",
    "outputId": "e96485f8-b1ba-47b4-e846-a20694c0a33f"
   },
   "outputs": [],
   "source": [
    "#@title - Symbol Groups values / Sub-accounts :\n",
    "\n",
    "currentDateTime = datetime.now().strftime(\"%y%m%d\")\n",
    "df_sa_balances = pd.read_csv(f'{reports_path}Ftx-SA-balances-{currentDateTime}.csv', encoding='utf-8', names =['coin', 'total', 'free', 'availableForWithdrawal', 'availableWithoutBorrow', 'usdValue', 'spotBorrow', 'accountName'])\n",
    "df_sa_balances.rename(columns={'coin':'Symbol', 'total':'Quantity', 'usdValue':'Stock-value'}, inplace=True)\n",
    "df_sa_balances = df_sa_balances.loc[df_sa_balances['Stock-value'] > 0 ]\n",
    "\n",
    "symbolGroup = df_sa_balances[['Symbol', 'accountName', 'Quantity', 'Stock-value']]\\\n",
    ".groupby(['Symbol']).sum(numeric_only=True)\\\n",
    ".round({'Quantity':2, 'usdvalue':2, 'Stock-value':2})\n",
    "\n",
    "symbolGroup['%'] = 100 * symbolGroup['Stock-value'] / symbolGroup['Stock-value'].sum()\n",
    "# Reset index\n",
    "symbolGroup.reset_index(inplace=True) \n",
    "symbolGroup = symbolGroup.sort_values(by=['Stock-value'],ascending=False)\n",
    "\n",
    "symbolGroup\n",
    "# print(f'Account Groups :', round(accountGroup,2))"
   ]
  },
  {
   "cell_type": "markdown",
   "metadata": {
    "id": "wE6RB8sTixXE"
   },
   "source": [
    "###### 2.2.2.2 - Coins / Sub-Account Balance : \n",
    "<center><img src=https://static.vecteezy.com/system/resources/previews/001/187/079/original/chart-png.png width=\"50\"</center>"
   ]
  },
  {
   "cell_type": "code",
   "execution_count": null,
   "metadata": {
    "cellView": "form",
    "colab": {
     "base_uri": "https://localhost:8080/",
     "height": 621
    },
    "id": "_BF4ow4pai4V",
    "outputId": "6b95087d-7b28-4407-925b-344dcae0b275"
   },
   "outputs": [],
   "source": [
    "#@title - Symbol Balance Division / Sub-Accounts :\n",
    "import matplotlib.pyplot as plt\n",
    "\n",
    "df_sa_condense = symbolGroup.sort_values(by=['Stock-value'], ascending=False)\n",
    "df_sa_condense = symbolGroup\n",
    "df_sa_condense.reset_index(inplace=True) \n",
    "\n",
    "labels = symbolGroup['Symbol'].tolist()\n",
    "\n",
    "# df_list.plot(label='Sub Account Balance', kind='pie', autopct='%1.0f%%',labels=labels, y='actual_value', shadow=True, startangle=90)\n",
    "# df_sa_condense.plot(label='Coins', kind='pie', autopct='%1.0f%%',labels=labels, y='actual_value', shadow=True, startangle=90, figsize=(7, 7))\n",
    "df_sa_condense.plot(label='FTX Accounts', kind='pie', autopct='%1.0f%%',labels=labels, y='Stock-value', shadow=True, startangle=90)\n",
    "\n",
    "#df.sum().plot(kind='pie', autopct='%1.0f%%', y='points')\n",
    "\n",
    "plt.title('Sub Acc Coin Division',x=0.5, y=0.5)\n",
    "plt.axis('equal')\n",
    "plt.legend().remove()\n",
    "plt.show()"
   ]
  },
  {
   "cell_type": "code",
   "execution_count": null,
   "metadata": {
    "cellView": "form",
    "colab": {
     "base_uri": "https://localhost:8080/",
     "height": 655
    },
    "id": "0My-SoeojlzV",
    "outputId": "30c63352-c680-4f51-b92e-ae709b226c7f"
   },
   "outputs": [],
   "source": [
    "#@title - Coins / Sub Account Balance Values : \n",
    "import matplotlib.pyplot as plt\n",
    "\n",
    "# currentDateTime = datetime.now().strftime(\"%y%m%d\")\n",
    "# df_sa_balances = pd.read_csv(f'Ftx-SA-balances-{currentDateTime}.csv', encoding='utf-8', names =['coin', 'total', 'free', 'availableForWithdrawal', 'availableWithoutBorrow', 'usdValue', 'spotBorrow', 'accountName'])\n",
    "# df_sa_balances.rename(columns={'coin':'Symbol', 'total':'Quantity', 'usdValue':'Stock-value'}, inplace=True)\n",
    "# df_sa_balances = df_sa_balances.loc[df_sa_balances['Stock-value'] > 0 ]\n",
    "\n",
    "# df_sa_condense_coin = df_sa_balances['Symbol']\n",
    "# df_sa_condense = df_sa_balances[df_sa_balances['Stock-value'] > 10]\n",
    "# df_sa_condense = df_sa_condense.sort_values(by=['Stock-value'],ascending=False)\n",
    "\n",
    "df_sa_condense = symbolGroup.sort_values(by=['Stock-value'], ascending=False)\n",
    "df_sa_condense = symbolGroup\n",
    "df_sa_condense.reset_index(inplace=True) \n",
    "\n",
    "values = round(df_sa_condense['Stock-value'],2).tolist()\n",
    "bar_labels = df_sa_condense['Symbol'].tolist()\n",
    "coin = df_sa_condense['Symbol'].tolist()\n",
    "\n",
    "\n",
    "# function to add value labels\n",
    "def addlabels(x,y):\n",
    "    for i in range(len(x)):\n",
    "        plt.text(i,y[i],y[i])\n",
    "\n",
    "fig, ax = plt.subplots()\n",
    "\n",
    "data_color = [x / max(values) for x in values]\n",
    "bar_colors = plt.cm.rainbow(data_color)\n",
    "# bar_colors = ['tab:red', 'tab:blue', 'tab:red', 'tab:orange']\n",
    "\n",
    "ax.bar(coin, values, label=bar_labels, color=bar_colors)\n",
    "\n",
    "ax.set_ylabel('Stock Value')\n",
    "ax.set_title('Sub Acc Coin Values')\n",
    "# ax.legend(title='Coin')\n",
    "\n",
    "# calling the function to add value labels\n",
    "#addlabels(coin, values)\n",
    "\n",
    "plt.rcParams[\"figure.figsize\"] = (30, 10)\n",
    "plt.autoscale\n",
    "plt.xlabel('values')\n",
    "\n",
    "\n",
    "plt.show()"
   ]
  },
  {
   "cell_type": "markdown",
   "metadata": {
    "id": "wR5OukNeGCTj"
   },
   "source": [
    "###### - Coins / Sub-Account Balances : \n",
    "<center><img src=https://www.pngmart.com/files/7/Pay-PNG-HD.png width=\"50\"</center>"
   ]
  },
  {
   "cell_type": "code",
   "execution_count": null,
   "metadata": {
    "cellView": "form",
    "colab": {
     "base_uri": "https://localhost:8080/",
     "height": 1000
    },
    "id": "0RYSwzYZq5Z-",
    "outputId": "a07e3ee1-a045-4032-e6f3-b891c4412457"
   },
   "outputs": [],
   "source": [
    "#@title - Sub Account Balances / Coin :\n",
    "from datetime import datetime\n",
    "\n",
    "currentDateTime = datetime.now().strftime(\"%y%m%d\")\n",
    "\n",
    "df_sa_balances = pd.read_csv(f'{reports_path}Ftx-SA-balances-{currentDateTime}.csv', encoding='utf-8', names =['coin', 'total', 'free', 'availableForWithdrawal', 'availableWithoutBorrow', 'usdValue', 'spotBorrow', 'accountName'])\n",
    "\n",
    "#df_sa_balances.columns = ['coin', 'total', 'free', 'availableForWithdrawal', 'availableWithoutBorrow', 'usdValue', 'spotBorrow', 'accountName']\n",
    "# coin, total, free, availableForWithdrawal, availableWithoutBorrow, usdValue, spotBorrow, accountName\n",
    "df_sa_balances.rename(columns={'coin':'Symbol', 'total':'Quantity', 'usdValue':'Stock-value'}, inplace=True)\n",
    "df_sa_balances = df_sa_balances.loc[df_sa_balances['Stock-value'] > 0 ]\n",
    "\n",
    "\n",
    "df_sa_balances[['Symbol', 'accountName', 'Quantity', 'Stock-value']].groupby(['Symbol','accountName']).agg({'Quantity':'sum', 'Stock-value':'sum'}).round({'Quantity':2, 'usdvalue':2, 'Stock-value':2})\n",
    "\n",
    "#df_sa_balances['%'] = 100 * df_sa_balances['Stock-value'] / df_sa_balances.groupby['AccountName']['Symbol'].sum()\n"
   ]
  },
  {
   "cell_type": "code",
   "execution_count": null,
   "metadata": {
    "cellView": "form",
    "colab": {
     "base_uri": "https://localhost:8080/",
     "height": 1000
    },
    "id": "LdWGZWd5v4rg",
    "outputId": "c0ccc1ed-8aaf-4351-ba81-fcdf8cf890e7"
   },
   "outputs": [],
   "source": [
    "#@title - Get balance / Sub Account :\n",
    "#df_sa_balances.groupby(['Symbol'])\n",
    "from datetime import datetime\n",
    "\n",
    "currentDateTime = datetime.now().strftime(\"%y%m%d\")\n",
    "df_sa_balances = pd.read_csv(f'{reports_path}Ftx-SA-balances-{currentDateTime}.csv', encoding='utf-8', names =['coin', 'total', 'free', 'availableForWithdrawal', 'availableWithoutBorrow', 'usdValue', 'spotBorrow', 'accountName'])\n",
    "df_sa_balances.rename(columns={'coin':'Symbol', 'total':'Quantity', 'usdValue':'Stock-value'}, inplace=True)\n",
    "df_sa_balances = df_sa_balances.loc[df_sa_balances['Stock-value'] > 0 ]\n",
    "\n",
    "accountGroup = df_sa_balances[['accountName', 'Symbol', 'Quantity', 'Stock-value']]\\\n",
    ".groupby(['accountName','Symbol']).sum()\\\n",
    ".round({'Quantity':2, 'usdvalue':2, 'Stock-value':2})\n",
    "\n",
    "\n",
    "accountGroup['%'] = 100 * accountGroup['Stock-value'] / accountGroup['Stock-value'].sum()\n",
    "accountGroup = accountGroup.sort_values(by=['accountName'],ascending=False).round({'Quantity':2, 'usdvalue':2, 'Stock-value':2, '%':2})\n",
    "\n",
    "accountGroup"
   ]
  },
  {
   "cell_type": "code",
   "execution_count": null,
   "metadata": {
    "cellView": "form",
    "colab": {
     "base_uri": "https://localhost:8080/",
     "height": 394
    },
    "id": "bOMne663cpPh",
    "outputId": "def998e7-815f-4bd9-819d-3c899d1fba6f"
   },
   "outputs": [],
   "source": [
    "#@title - Group / Sub-Accounts :\n",
    "from datetime import datetime\n",
    "\n",
    "currentDateTime = datetime.now().strftime(\"%y%m%d\")\n",
    "df_sa_balances = pd.read_csv(f'{reports_path}Ftx-SA-balances-{currentDateTime}.csv', encoding='utf-8', names =['coin', 'total', 'free', 'availableForWithdrawal', 'availableWithoutBorrow', 'usdValue', 'spotBorrow', 'accountName'])\n",
    "df_sa_balances.rename(columns={'coin':'Symbol', 'total':'Quantity', 'usdValue':'Stock-value'}, inplace=True)\n",
    "df_sa_balances = df_sa_balances.loc[df_sa_balances['Stock-value'] > 0 ]\n",
    "\n",
    "accountGroup = df_sa_balances[['Quantity', 'accountName', 'Stock-value']]\\\n",
    ".groupby(['accountName']).sum()\\\n",
    ".round({'Quantity':2, 'Stock-value':2})\n",
    "\n",
    "accountGroup['%'] = 100 * accountGroup['Stock-value'] / accountGroup['Stock-value'].sum()\n",
    "accountGroup = accountGroup.sort_values(by=['accountName'],ascending=False).round({'Quantity':2, 'usdvalue':2, 'Stock-value':2, '%':2})\n",
    "accountGroup.reset_index(inplace=True) \n",
    "\n",
    "accountGroup\n",
    "# print(f'Account Groups :', round(accountGroup,2))"
   ]
  },
  {
   "cell_type": "code",
   "execution_count": null,
   "metadata": {
    "cellView": "form",
    "colab": {
     "base_uri": "https://localhost:8080/"
    },
    "id": "4RwPHgRZfJFc",
    "outputId": "436e50bc-d240-4fda-c8a8-6288b52ba0a5"
   },
   "outputs": [],
   "source": [
    "#@title - Total Coins / fiat Sub Accounts :\n",
    "sumSubFiat = df_sa_condense['Stock-value'].sum()\n",
    "print(f'Total SubA - Fiat :', round(sumSubFiat,2))"
   ]
  },
  {
   "cell_type": "markdown",
   "metadata": {
    "id": "mVBRCXUavvFw"
   },
   "source": [
    "###### 2.2.2.2 - Sub Account / Coins Balance : \n",
    "<center><img src=https://static.vecteezy.com/system/resources/previews/001/187/079/original/chart-png.png width=\"50\"</center>"
   ]
  },
  {
   "cell_type": "code",
   "execution_count": null,
   "metadata": {
    "cellView": "form",
    "colab": {
     "base_uri": "https://localhost:8080/",
     "height": 626
    },
    "id": "QmNPq26kixXF",
    "outputId": "d1c966b3-99f2-4e6f-81c4-f0ddc3741972"
   },
   "outputs": [],
   "source": [
    "#@title - Sub Accounts Balance Division :\n",
    "import matplotlib.pyplot as plt\n",
    "\n",
    "df_sa_condense = accountGroup.sort_values(by=['Stock-value'], ascending=False)\n",
    "df_sa_condense = accountGroup\n",
    "df_sa_condense.reset_index(inplace=True) \n",
    "\n",
    "labels = df_sa_condense['accountName'].tolist()\n",
    "df_sa_condense = df_sa_condense.sort_values(by=['Stock-value'], ascending=False)\n",
    "df_sa_condense.plot(label='FTX Accounts', kind='pie', autopct='%1.0f%%',labels=labels, y='Stock-value', shadow=True, startangle=90)\n",
    "\n",
    "plt.title('Sub Acc Coin Division',x=0.5, y=0.5)\n",
    "plt.axis('equal')\n",
    "plt.legend().remove()\n",
    "plt.show()"
   ]
  },
  {
   "cell_type": "code",
   "execution_count": null,
   "metadata": {
    "cellView": "form",
    "colab": {
     "base_uri": "https://localhost:8080/",
     "height": 655
    },
    "id": "-zj8RtxEixXF",
    "outputId": "daa3c457-657c-42e4-ce62-41045bc5768e"
   },
   "outputs": [],
   "source": [
    "#@title - Coins / Sub Account Balance Values : \n",
    "import matplotlib.pyplot as plt\n",
    "\n",
    "currentDateTime = datetime.now().strftime(\"%y%m%d\")\n",
    "df_sa_balances = pd.read_csv(f'{reports_path}Ftx-SA-balances-{currentDateTime}.csv', encoding='utf-8', names =['coin', 'total', 'free', 'availableForWithdrawal', 'availableWithoutBorrow', 'usdValue', 'spotBorrow', 'accountName'])\n",
    "df_sa_balances.rename(columns={'coin':'Symbol', 'total':'Quantity', 'usdValue':'Stock-value'}, inplace=True)\n",
    "df_sa_balances = df_sa_balances.loc[df_sa_balances['Stock-value'] > 0 ]\n",
    "\n",
    "accountGroup = df_sa_balances[['accountName', 'Symbol', 'Quantity', 'Stock-value']]\\\n",
    ".groupby(['accountName','Symbol']).sum()\\\n",
    ".round({'Quantity':2, 'usdvalue':2, 'Stock-value':2})\n",
    "\n",
    "accountGroup['%'] = 100 * accountGroup['Stock-value'] / accountGroup['Stock-value'].sum()\n",
    "accountGroup = accountGroup.sort_values(by=['Stock-value'],ascending=False)\n",
    "\n",
    "\n",
    "#df_sa_condense_coin = accountGroup['Symbol']\n",
    "df_sa_condense = accountGroup[accountGroup['Stock-value'] > 10]\n",
    "\n",
    "\n",
    "df_sa_condense = accountGroup.sort_values(by=['Stock-value'], ascending=False)\n",
    "#df_sa_condense = accountGroup\n",
    "df_sa_condense.reset_index(inplace=True) \n",
    "\n",
    "values = round(df_sa_condense['Stock-value'],2).tolist()\n",
    "bar_labels = df_sa_condense['accountName'].tolist()\n",
    "coin = df_sa_condense['accountName'].tolist()\n",
    "\n",
    "\n",
    "# function to add value labels\n",
    "def addlabels(x,y):\n",
    "    for i in range(len(x)):\n",
    "        plt.text(i,y[i],y[i])\n",
    "\n",
    "fig, ax = plt.subplots()\n",
    "\n",
    "data_color = [x / max(values) for x in values]\n",
    "bar_colors = plt.cm.rainbow(data_color)\n",
    "# bar_colors = ['tab:red', 'tab:blue', 'tab:red', 'tab:orange']\n",
    "\n",
    "ax.bar(coin, values, label=bar_labels, color=bar_colors)\n",
    "\n",
    "ax.set_ylabel('Stock Value')\n",
    "ax.set_title('Sub Acc Coin Values')\n",
    "# ax.legend(title='Coin')\n",
    "\n",
    "# calling the function to add value labels\n",
    "#addlabels(coin, values)\n",
    "\n",
    "plt.rcParams[\"figure.figsize\"] = (30, 10)\n",
    "plt.autoscale\n",
    "plt.xlabel('values')\n",
    "\n",
    "\n",
    "plt.show()"
   ]
  },
  {
   "cell_type": "markdown",
   "metadata": {
    "id": "YLmWUrqjj6oB"
   },
   "source": [
    "##### 2.2.4 - Concatenate Balance :\n",
    "\n",
    "<center><img src=https://cdn-icons-png.flaticon.com/512/229/229804.png width=\"50\"</center>"
   ]
  },
  {
   "cell_type": "markdown",
   "metadata": {
    "id": "YAeGMAQhHegi"
   },
   "source": [
    "###### - Coins / Sub-Account Balances : \n",
    "<center><img src=https://pics.clipartpng.com/Gold_Coins_PNG_Clipart-664.png width=\"50\"</center>"
   ]
  },
  {
   "cell_type": "code",
   "execution_count": null,
   "metadata": {
    "cellView": "form",
    "colab": {
     "base_uri": "https://localhost:8080/",
     "height": 1000
    },
    "id": "UoEVH_emsfcj",
    "outputId": "f136a595-3114-4e14-f769-95f35d0b2fb4"
   },
   "outputs": [],
   "source": [
    "#@title - Concat Accounts : Coins / fiat \n",
    "# df_MA_total.index = df_MA_total.index.rename('CRYPTOSYMBOL')\n",
    "import pandas as pd\n",
    "from datetime import datetime\n",
    "\n",
    "currentDateTime = datetime.now().strftime(\"%y%m%d\")\n",
    "\n",
    "# Main Account\n",
    "df_MA = pd.read_csv(f'{reports_path}Ftx-MA-{currentDateTime}.csv', header=0, encoding='utf-8', names =['coin', 'total', 'free', 'availableForWithdrawal', 'availableWithoutBorrow', 'usdValue', 'spotBorrow', 'accountName'])\n",
    "\n",
    "df_MA.rename(columns={'coin':'Symbol', 'total':'Quantity', 'usdValue':'Stock-value'}, inplace=True)\n",
    "#df_MA = df_MA.sort_values(by=['Stock-value'],ascending=False)\n",
    "df_MA = df_MA[df_MA['Stock-value'].astype(float) > 0.00]\n",
    "df_MA.reset_index(inplace=True)\n",
    "\n",
    "\n",
    "\n",
    "\n",
    "# Sub-Account\n",
    "df_sa_balances = pd.read_csv(f'{reports_path}Ftx-SA-balances-{currentDateTime}.csv', encoding='utf-8', names =['coin', 'total', 'free', 'availableForWithdrawal', 'availableWithoutBorrow', 'usdValue', 'spotBorrow', 'accountName'])\n",
    "df_sa_balances.rename(columns={'coin':'Symbol', 'total':'Quantity', 'usdValue':'Stock-value'}, inplace=True)\n",
    "df_sa_balances = df_sa_balances.loc[df_sa_balances['Stock-value'].astype(float) > 0.00 ]\n",
    "\n",
    "df_sa_balances[['Symbol', 'accountName', 'Quantity', 'Stock-value']].groupby(['Symbol','accountName']).agg({'Quantity':'sum', 'Stock-value':'sum'}).round({'Quantity':2, 'usdvalue':2, 'Stock-value':2})\n",
    "\n",
    "\n",
    "## Concat\n",
    "df_concat_ftx = pd.concat([df_MA, df_sa_balances])\n",
    "df_concat_ftx =  df_concat_ftx.fillna(value={'Quantity':0, 'Price':0, 'Stock-value':0, 'accountName':'Main-Account', 'Stock-value':0})\n",
    "\n",
    "#df_concat_ftx['totalFiat'] = df_concat_ftx['Stock-value'] + df_concat_ftx['Stock-value']\n",
    "df_concat_ftx.round({'Quantity':2, 'Price':4, 'coinSum':2,'Total-value':2})\n",
    "df_concat_ftx = df_concat_ftx.sort_values(by=['Stock-value'], ascending=False)\n",
    "df_concat_ftx = df_concat_ftx.loc[df_concat_ftx['Stock-value'].astype(float) > 0.00 ]\n",
    "#df_concat_ftx.drop(['index'], inplace = True, axis = 1)\n",
    "df_concat_ftx.reset_index(inplace=True)\n",
    "\n",
    "#Output\n",
    "subFiat = df_concat_ftx[[ 'Symbol', 'accountName', 'Stock-value']]\\\n",
    ".groupby(['Symbol', 'accountName']).sum()\\\n",
    ".round({'Stock-value':2})\n",
    "subFiat.reset_index(inplace=True)\n",
    "\n",
    "subFiat['%'] = 100 * subFiat['Stock-value'] / subFiat['Stock-value'].sum()\n",
    "subFiat = subFiat[[ 'Symbol', 'accountName', 'Stock-value','%']]\\\n",
    ".groupby(['Symbol', 'accountName']).sum()\\\n",
    ".round({'%':2})\n",
    "\n",
    "# Show full Dataframe\n",
    "pd.set_option('display.max_rows', None)\n",
    "pd.set_option('display.max_columns', None)\n",
    "pd.set_option('display.width', None)\n",
    "pd.set_option('display.max_colwidth', None)\n",
    "\n",
    "display(subFiat)"
   ]
  },
  {
   "cell_type": "code",
   "execution_count": null,
   "metadata": {
    "cellView": "form",
    "colab": {
     "base_uri": "https://localhost:8080/",
     "height": 1000
    },
    "id": "sVfMU7m8KzD1",
    "outputId": "c9d57e5a-95cf-4292-ffa7-4e614f9ddbb5"
   },
   "outputs": [],
   "source": [
    "#@title - Concat Accounts : Coins / fiat\n",
    "\n",
    "from datetime import datetime\n",
    "currentDateTime = datetime.now().strftime(\"%y%m%d\")\n",
    "\n",
    "\n",
    "# Main Account\n",
    "df_MA = pd.read_csv(f'{reports_path}Ftx-MA-{currentDateTime}.csv', header=0, encoding='utf-8', names =['coin', 'total', 'free', 'availableForWithdrawal', 'availableWithoutBorrow', 'usdValue', 'spotBorrow', 'accountName'])\n",
    "\n",
    "df_MA.rename(columns={'coin':'Symbol', 'total':'Quantity', 'usdValue':'Stock-value'}, inplace=True)\n",
    "#df_MA = df_MA.sort_values(by=['Stock-value'],ascending=False)\n",
    "df_MA = df_MA[df_MA['Stock-value'] > 0.0]\n",
    "df_MA.reset_index(inplace=True)\n",
    "\n",
    "\n",
    "# Sub-Account\n",
    "df_sa_balances = pd.read_csv(f'{reports_path}Ftx-SA-balances-{currentDateTime}.csv', encoding='utf-8', names =['coin', 'total', 'free', 'availableForWithdrawal', 'availableWithoutBorrow', 'usdValue', 'spotBorrow', 'accountName'])\n",
    "df_sa_balances.rename(columns={'coin':'Symbol', 'total':'Quantity', 'usdValue':'Stock-value'}, inplace=True)\n",
    "df_sa_balances = df_sa_balances.loc[df_sa_balances['Stock-value'] > 0.0 ]\n",
    "df_sa_balances[['Symbol', 'accountName', 'Quantity', 'Stock-value']].round({'Quantity':2, 'usdvalue':2, 'Stock-value':2})\n",
    "\n",
    "# Concat\n",
    "df_concat_ftx = pd.concat([df_MA, df_sa_balances])\n",
    "df_concat_ftx =  df_concat_ftx.fillna(value={'Quantity':0, 'Stock-value':0, 'accountName':'Main-Account', 'Stock-value':0})\n",
    "df_concat_ftx[['Symbol', 'Quantity', 'Stock-value']].round({'Quantity':2, 'Price':4, 'coinSum':2,'Total-value':2})\n",
    "df_concat_ftx = df_concat_ftx.sort_values(by=['Stock-value'], ascending=False)\n",
    "\n",
    "df_concat_ftx[['Symbol', 'Quantity', 'Stock-value']].groupby(['Symbol']).sum(numeric_only=True).round({'Quantity':2, 'Price':4, 'coinSum':2,'Stock-value':2})\n",
    "df_concat_ftx['%'] = 100 * df_concat_ftx['Stock-value'] / df_concat_ftx['Stock-value'].sum()\n",
    "df_concat_ftx = subFiat.sort_values(by=['Stock-value'],ascending=False).round({'Quantity':2, 'usdvalue':2, 'Stock-value':2, '%':2})\n",
    "df_concat_ftx.reset_index(inplace=True)\n",
    "\n",
    "#subAcc_ftx = df_concat_ftx[['Symbol']]\\\n",
    "\n",
    "subAcc_ftx = df_concat_ftx[['Symbol', 'Stock-value', '%']]\\\n",
    ".groupby(['Symbol']).sum()\\\n",
    ".round({'%':2})\n",
    "subAcc_ftx = subAcc_ftx.sort_values(by=['Stock-value'],ascending=False).round({'Quantity':2, 'usdvalue':2, 'Stock-value':2, '%':2})\n",
    "\n",
    "# Show full Dataframe\n",
    "# pd.set_option('display.max_rows', None)\n",
    "# pd.set_option('display.max_columns', None)\n",
    "# pd.set_option('display.width', None)\n",
    "# pd.set_option('display.max_colwidth', None)\n",
    "\n",
    "#df_concat_ftx\n",
    "subAcc_ftx"
   ]
  },
  {
   "cell_type": "code",
   "execution_count": null,
   "metadata": {
    "cellView": "form",
    "colab": {
     "base_uri": "https://localhost:8080/"
    },
    "id": "dRH6Zi86-O9w",
    "outputId": "a4f1f3c0-f877-4b47-b45c-fda12b5a5a72"
   },
   "outputs": [],
   "source": [
    "#@title - Total Coins / fiat all Accounts :\n",
    "totalfiatSum = df_concat_ftx['Stock-value'].sum()\n",
    "print(f'Total fiat :', round(totalfiatSum,2))"
   ]
  },
  {
   "cell_type": "code",
   "execution_count": null,
   "metadata": {
    "cellView": "form",
    "colab": {
     "base_uri": "https://localhost:8080/",
     "height": 583
    },
    "id": "mAO5aDt5Logy",
    "outputId": "1db8327e-1364-4d34-97cd-f38e04af3e17"
   },
   "outputs": [],
   "source": [
    "#@title - Coins / All Accounts Balance Division > 1000 fiat:\n",
    "import matplotlib.pyplot as plt\n",
    "\n",
    "#df_concat_ftx.groupby(['accountName', 'Symbol']).sum(numeric_only=True).round({'Quantity':2, 'Price':4, 'coinSum':2,'fiatSum':2})\n",
    "df_concat_ftx = df_concat_ftx.loc[df_concat_ftx['Stock-value'] > 1000 ]\n",
    "\n",
    "labels = df_concat_ftx['Symbol'].tolist()\n",
    "# df_sa_condense.plot(label='Sub Account Balance', kind='pie', autopct='%1.0f%%',labels=labels, y='actual_value', shadow=True, startangle=90)\n",
    "df_concat_ftx.plot(label='Total - Coins', kind='pie', autopct='%1.0f%%',labels=labels, y='Stock-value', shadow=True, startangle=90, figsize=(7, 7))\n",
    "\n",
    "\n",
    "# df.sum().plot(kind='pie', autopct='%1.0f%%', y='points')\n",
    "\n",
    "plt.title('Total Coin Division > 1000',x=0.5, y=0.5)\n",
    "plt.axis('equal')\n",
    "plt.legend().remove()\n",
    "plt.show()"
   ]
  },
  {
   "cell_type": "code",
   "execution_count": null,
   "metadata": {
    "cellView": "form",
    "colab": {
     "base_uri": "https://localhost:8080/",
     "height": 655
    },
    "id": "ZSzQcfqgLogy",
    "outputId": "b14c4415-4042-4eac-df48-a705d188aa90"
   },
   "outputs": [],
   "source": [
    "#@title - Coins / All Account Balance Values : \n",
    "import matplotlib.pyplot as plt\n",
    "import numpy as np\n",
    "\n",
    "df_concat_ftx = df_concat_ftx.sort_values(by=['Stock-value'], ascending=False)\n",
    "df_concat_ftx = df_concat_ftx.loc[df_concat_ftx['Stock-value'] > 1000 ]\n",
    "#df_sa_condense.reset_index(inplace=True) \n",
    "\n",
    "values = round(df_concat_ftx['Stock-value'],2).tolist()\n",
    "\n",
    "\n",
    "bar_labels = df_concat_ftx['Symbol'].tolist()\n",
    "coin = df_concat_ftx['Symbol'].tolist()\n",
    "#df_sa_condense = df_concat_ftx.sort_values(by=['Stock-value'], ascending=False)\n",
    "\n",
    "# Filter > 10 on Stock-value\n",
    "df_concat_ftx = df_concat_ftx.loc[df_concat_ftx['Stock-value'] > 1000 ]\n",
    "\n",
    "# function to add value labels\n",
    "def addlabels(x,y):\n",
    "    for i in range(len(x)):\n",
    "#        plt.text(i,y[i],y[i])\n",
    "        plt.text(i, y[i], y[i], ha = 'center') # Top\n",
    "#        plt.text(i, y[i]//2, y[i], ha = 'center')\n",
    "\n",
    "\n",
    "fig, ax = plt.subplots()\n",
    "\n",
    "# width = 0.1\n",
    "#   # the width of the bars\n",
    "# x = np.arange(len(values))  # the label locations\n",
    "# rects1 = ax.bar(x - width/2, bar_labels, width, label=values)\n",
    "\n",
    "\n",
    "data_color = [x / max(values) for x in values]\n",
    "bar_colors = plt.cm.rainbow(data_color)\n",
    "# bar_colors = ['tab:red', 'tab:blue', 'tab:red', 'tab:orange']\n",
    "\n",
    "#ax.bar(coin, values, label=bar_labels, color=bar_colors)\n",
    "ax.bar(coin, values, label=bar_labels, color=bar_colors)\n",
    "\n",
    "\n",
    "# ax.bar_label(rects1, padding=3)\n",
    "\n",
    "ax.set_ylabel('Stock Value > 1000')\n",
    "ax.set_title('Total Coin Values')\n",
    "# ax.legend(title='Coin')\n",
    "\n",
    "# calling the function to add value labels\n",
    "#addlabels(coin, values)\n",
    "\n",
    "plt.rcParams[\"figure.figsize\"] = (30, 10)\n",
    "plt.autoscale\n",
    "plt.xlabel('values')\n",
    "\n",
    "\n",
    "plt.show()"
   ]
  },
  {
   "cell_type": "markdown",
   "metadata": {
    "id": "c2zVVBfkHk5k"
   },
   "source": [
    "###### - Coins / All-Account Balances : \n",
    "<center><img src=https://www.pngmart.com/files/7/Pay-PNG-HD.png width=\"50\"</center>"
   ]
  },
  {
   "cell_type": "code",
   "execution_count": null,
   "metadata": {
    "cellView": "form",
    "colab": {
     "base_uri": "https://localhost:8080/",
     "height": 1000
    },
    "id": "t93wb5q0EiMR",
    "outputId": "d37a6c69-b0b5-4f04-ba11-89899f944f61"
   },
   "outputs": [],
   "source": [
    "#@title - Concat Accounts :\n",
    "import pandas as pd\n",
    "from datetime import datetime\n",
    "currentDateTime = datetime.now().strftime(\"%y%m%d\")\n",
    "\n",
    "# Main Account\n",
    "df_MA = pd.read_csv(f'{reports_path}Ftx-MA-{currentDateTime}.csv', header=0, encoding='utf-8', names =['coin', 'total', 'free', 'availableForWithdrawal', 'availableWithoutBorrow', 'usdValue', 'spotBorrow', 'accountName'])\n",
    "\n",
    "df_MA.rename(columns={'coin':'Symbol', 'total':'Quantity', 'usdValue':'Stock-value'}, inplace=True)\n",
    "#df_MA = df_MA.sort_values(by=['Stock-value'],ascending=False)\n",
    "df_MA = df_MA[df_MA['Stock-value'] > 0.0]\n",
    "df_MA.reset_index(inplace=True)\n",
    "\n",
    "# Sub-Account\n",
    "df_sa_balances = pd.read_csv(f'{reports_path}Ftx-SA-balances-{currentDateTime}.csv', encoding='utf-8', names =['coin', 'total', 'free', 'availableForWithdrawal', 'availableWithoutBorrow', 'usdValue', 'spotBorrow', 'accountName'])\n",
    "df_sa_balances.rename(columns={'coin':'Symbol', 'total':'Quantity', 'usdValue':'Stock-value'}, inplace=True)\n",
    "df_sa_balances = df_sa_balances.loc[df_sa_balances['Stock-value'] > 0 ]\n",
    "\n",
    "df_sa_balances[['Symbol', 'accountName', 'Quantity', 'Stock-value']].groupby(['Symbol','accountName']).agg({'Quantity':'sum', 'Stock-value':'sum'}).round({'Quantity':2, 'usdvalue':2, 'Stock-value':2})\n",
    "\n",
    "# Concat\n",
    "df_concat_ftx = pd.concat([df_MA, df_sa_balances])\n",
    "df_concat_ftx =  df_concat_ftx.fillna(value={'Quantity':0, 'Price':0, 'Stock-value':0, 'accountName':'Main-Account', 'sumFiat':0})\n",
    "\n",
    "#df_concat_ftx['totalFiat'] = df_concat_ftx['Stock-value'] + df_concat_ftx['Stock-value_MA']\n",
    "df_concat_ftx.round({'Quantity':2, 'Price':4, 'coinSum':2,'totalFiat':2})\n",
    "\n",
    "subGroup = df_concat_ftx[['accountName', 'Symbol', 'Stock-value']]\\\n",
    ".groupby(['accountName', 'Symbol']).sum(numeric_only=True)\\\n",
    ".round({'Stock-value':2})\n",
    "#subGroup.reset_index(inplace=True)\n",
    "\n",
    "\n",
    "subGroup['%'] = 100 * subGroup['Stock-value'] / subGroup['Stock-value'].sum()\n",
    "subGroup.round({'%':2})\n",
    "\n",
    "#subGroup = subGroup.sort_values(by=['accountName'],ascending=False).round({'Quantity':2, 'usdvalue':2, 'Stock-value':2, '%':2})\n",
    "\n",
    "\n",
    "# Show full Dataframe\n",
    "pd.set_option('display.max_rows', None)\n",
    "pd.set_option('display.max_columns', None)\n",
    "pd.set_option('display.width', None)\n",
    "pd.set_option('display.max_colwidth', None)\n",
    "\n",
    "subGroup.round({'%':2})"
   ]
  },
  {
   "cell_type": "code",
   "execution_count": null,
   "metadata": {
    "cellView": "form",
    "colab": {
     "base_uri": "https://localhost:8080/",
     "height": 457
    },
    "id": "8ZuBRNjZYcbF",
    "outputId": "2d25de6c-274b-44eb-b520-85364bbdcd64"
   },
   "outputs": [],
   "source": [
    "#@title - Concat All Accounts Groups :\n",
    "import pandas as pd\n",
    "from datetime import datetime\n",
    "\n",
    "currentDateTime = datetime.now().strftime(\"%y%m%d\")\n",
    "\n",
    "# Main Account\n",
    "df_MA = pd.read_csv(f'{reports_path}Ftx-MA-{currentDateTime}.csv', header=0, encoding='utf-8', names =['coin', 'total', 'free', 'availableForWithdrawal', 'availableWithoutBorrow', 'usdValue', 'spotBorrow', 'accountName'])\n",
    "\n",
    "df_MA.rename(columns={'coin':'Symbol', 'total':'Quantity', 'usdValue':'Stock-value'}, inplace=True)\n",
    "#df_MA = df_MA.sort_values(by=['Stock-value'],ascending=False)\n",
    "df_MA = df_MA[df_MA['Stock-value'] > 0.0]\n",
    "df_MA.reset_index(inplace=True)\n",
    "\n",
    "# Sub-Account\n",
    "df_sa_balances = pd.read_csv(f'{reports_path}Ftx-SA-balances-{currentDateTime}.csv', encoding='utf-8', names =['coin', 'total', 'free', 'availableForWithdrawal', 'availableWithoutBorrow', 'usdValue', 'spotBorrow', 'accountName'])\n",
    "df_sa_balances.rename(columns={'coin':'Symbol', 'total':'Quantity', 'usdValue':'Stock-value'}, inplace=True)\n",
    "df_sa_balances = df_sa_balances.loc[df_sa_balances['Stock-value'] > 0 ]\n",
    "\n",
    "# df_sa_balances[['Symbol', 'accountName', 'Quantity', 'Stock-value']].groupby(['Symbol','accountName']).agg({'Quantity':'sum', 'Stock-value':'sum'}).round({'Quantity':2, 'usdvalue':2, 'Stock-value':2})\n",
    "df_concat_ftx['%'] = 100 * df_concat_ftx['Stock-value'] / df_concat_ftx['Stock-value'].sum(numeric_only=True)\n",
    "\n",
    "# Concat\n",
    "df_concat_ftx = pd.concat([df_MA, df_sa_balances])\n",
    "df_concat_ftx =  df_concat_ftx.fillna(value={'Quantity':0, 'Price':0, 'Stock-value':0, 'accountName':'Main-Account'})\n",
    "\n",
    "#Output\n",
    "subFiat = df_concat_ftx[[ 'Symbol', 'accountName', 'Stock-value']]\\\n",
    ".groupby(['accountName', 'Symbol' ]).sum(numeric_only=True)\\\n",
    ".round({'Stock-value':2})\n",
    "subFiat.reset_index(inplace=True)\n",
    "\n",
    "subFiat['%'] = 100 * subFiat['Stock-value'] / subFiat['Stock-value'].sum(numeric_only=True)\n",
    "subFiat = subFiat[[ 'accountName', 'Symbol',  'Stock-value','%']]\\\n",
    ".groupby(['accountName']).sum(numeric_only=True)\\\n",
    ".round({'%':2})\n",
    "\n",
    "# Show full Dataframe\n",
    "# pd.set_option('display.max_rows', None)\n",
    "# pd.set_option('display.max_columns', None)\n",
    "# pd.set_option('display.width', None)\n",
    "# pd.set_option('display.max_colwidth', None)\n",
    "\n",
    "display(subFiat)"
   ]
  },
  {
   "cell_type": "code",
   "execution_count": null,
   "metadata": {
    "cellView": "form",
    "colab": {
     "base_uri": "https://localhost:8080/"
    },
    "id": "gQvObHBSSEse",
    "outputId": "0449abd9-2c12-4aa1-d04b-87a88a896778"
   },
   "outputs": [],
   "source": [
    "#@title - Total Coins / fiat all Accounts :\n",
    "totalAll = df_concat_ftx['Stock-value'].sum()\n",
    "print(f'Total fiat :', round(totalAll,2))"
   ]
  },
  {
   "cell_type": "code",
   "execution_count": null,
   "metadata": {
    "cellView": "form",
    "colab": {
     "base_uri": "https://localhost:8080/",
     "height": 620
    },
    "id": "Di-OzzC-lnRN",
    "outputId": "f1592c31-bbf1-4f5c-f9aa-0f06073843e5"
   },
   "outputs": [],
   "source": [
    "#@title - Coins / Sub-Accounts Balance Division :\n",
    "import matplotlib.pyplot as plt\n",
    "\n",
    "#df_acc_ftx = df_concat_ftx.groupby(['accountName']).sum(numeric_only=True).round({'Quantity':2, 'Price':4, 'coinSum':2,'fiatSum':2})\n",
    "\n",
    "\n",
    "subFiat.reset_index(inplace=True)\n",
    "\n",
    "labels = subFiat['accountName'].tolist()\n",
    "#labels = df_acc_ftx['accountName'].tolist()\n",
    "\n",
    "# df_acc_ftx = df_concat_ftx['accountName'].sum(numeric_only=True)\n",
    "# df_acc_ftx = df_acc_ftx[(df_acc_ftx.duplicated() == False)]\n",
    "# labels = df_acc_ftx['accountName'].tolist()\n",
    "\n",
    "# labels = df_acc_ftx.tolist()\n",
    "\n",
    "\n",
    "# df_sa_condense.plot(label='Sub Account Balance', kind='pie', autopct='%1.0f%%',labels=labels, y='actual_value', shadow=True, startangle=90)\n",
    "subFiat.plot(label='All Acc - Balance', kind='pie', autopct='%1.0f%%', labels=labels, y='Stock-value', shadow=True, startangle=90)\n",
    "#labels = subFiat['accountName'].tolist()\n",
    "#df_acc_ftx.plot(label='All Acc - Balance', kind='pie', autopct='%1.0f%%', labels=labels, y='totalFiat', shadow=True, startangle=90, figsize=(7, 7))\n",
    "\n",
    "\n",
    "# df.sum().plot(kind='pie', autopct='%1.0f%%', y='points')\n",
    "\n",
    "plt.title('All Acc Division',x=0.5, y=0.5)\n",
    "plt.axis('equal')\n",
    "plt.legend().remove()\n",
    "plt.show()"
   ]
  },
  {
   "cell_type": "code",
   "execution_count": null,
   "metadata": {
    "cellView": "form",
    "colab": {
     "base_uri": "https://localhost:8080/",
     "height": 653
    },
    "id": "HEJnsx86Ra7q",
    "outputId": "ac6d170b-af17-4510-c8f6-1021d060990f"
   },
   "outputs": [],
   "source": [
    "#@title - Coins / Sub Account Balance Values : \n",
    "import matplotlib.pyplot as plt\n",
    "\n",
    "#subFiat.reset_index(inplace=True)\n",
    "#subFiat = subFiat[subFiat['Stock-value'] > 10]\n",
    "\n",
    "\n",
    "values = round(subFiat['Stock-value'],2).tolist()\n",
    "bar_labels = subFiat['accountName'].tolist()\n",
    "coin = subFiat['accountName'].tolist()\n",
    "# Filter > 10 on Stock-value\n",
    "subFiat = subFiat.loc[subFiat['Stock-value'] > 10 ]\n",
    "\n",
    "\n",
    "\n",
    "# function to add value labels\n",
    "def addlabels(x,y):\n",
    "    for i in range(len(x)):\n",
    "#        plt.text(i,y[i],y[i])\n",
    "        plt.text(i,y[i],y[i])\n",
    "\n",
    "fig, ax = plt.subplots()\n",
    "\n",
    "data_color = [x / max(values) for x in values]\n",
    "bar_colors = plt.cm.rainbow(data_color)\n",
    "# bar_colors = ['tab:red', 'tab:blue', 'tab:red', 'tab:orange']\n",
    "\n",
    "ax.bar(coin, values, label=bar_labels, color=bar_colors)\n",
    "\n",
    "ax.set_ylabel('Stock Value')\n",
    "ax.set_title('Sub Acc Coin Values')\n",
    "# ax.legend(title='Coin')\n",
    "\n",
    "# calling the function to add value labels\n",
    "addlabels(coin, values)\n",
    "#addlabels(coin)\n",
    "\n",
    "\n",
    "plt.rcParams[\"figure.figsize\"] = (30, 10)\n",
    "plt.autoscale\n",
    "plt.xlabel('Accounts')\n",
    "\n",
    "\n",
    "plt.show()"
   ]
  },
  {
   "cell_type": "markdown",
   "metadata": {
    "id": "C7dgWNW__j_x"
   },
   "source": [
    "## 3. Cleanup"
   ]
  },
  {
   "cell_type": "markdown",
   "metadata": {
    "id": "UTGrCEBdQGQi"
   },
   "source": [
    "Datas may take some place in th compurter memory so let's cleanup"
   ]
  },
  {
   "cell_type": "code",
   "execution_count": null,
   "metadata": {
    "cellView": "form",
    "id": "P86oZZvbP340"
   },
   "outputs": [],
   "source": [
    "#@title - delete DataFrames to Release Memory :\n",
    "# del df_MA, df_list\n",
    "# ... or kill python at the end"
   ]
  },
  {
   "cell_type": "markdown",
   "metadata": {
    "id": "x-D0UDTwP18x"
   },
   "source": [
    "## 4. Thank you"
   ]
  },
  {
   "cell_type": "markdown",
   "metadata": {
    "id": "NHXPAuZ7_j_y"
   },
   "source": [
    "### Disclaimer\n",
    "I am not a financial advisor, this document is not a financial advisement. \n",
    "Do not take anything as financial advice, ever.\n",
    "Make your own research\n",
    "This document has no official link with FTX\n",
    "\n",
    "### SAFeti\n",
    "- Make sure you never give or show your seed phrases to someone else, don't store it on your computer NEVER ! I know someone that has been hacked I can tell you.\n",
    "\n",
    "- Nobody should ask you to see them\n",
    "- Never scommunicate your API key to someone and reset them frequently.\n",
    "\n",
    "### Advisory General condition\n",
    "- I am not responsable of any trouble, any lost, any problem occured on you material and your computing.\n",
    "- This document is free to use, your are not engage in any contract using it\n",
    "- I am not responsable of the good working, installation, update, or any further troubleshoot on your process.\n",
    "- you are responsible of what you are doing using this document\n",
    "\n",
    "### Tips\n",
    "This document is free to allow the community to make aknowledgement, and help to manage the coin in FTX process.\n",
    "I am not in any contract with any financial company, and I am not representing anyone but me, myself and I.\n",
    "\n",
    "I just think if we can help each other we will offer a better world.\n",
    "\n",
    "This has taken some times of work, and make you save your time. \n",
    "\n",
    "Thank you for your encouragement, your support and your tips :\n",
    "\n",
    "BTC : `bc1qxpmknuwuy967l7x5ty9qs7jl7mtjuv5cs8cdq4`\n",
    "\n",
    "0,0005 BTC seams fair\n",
    "\n",
    "ETH :\n",
    "`0xE328D3924B635dFFc719159b075086b324FFE931`\n",
    "\n",
    "0,007 ETH seems fair\n",
    "\n",
    "### Thanks\n",
    "To the coummunity, to youtubers, to Satoshi N., my familly to support me during this work etc..."
   ]
  },
  {
   "cell_type": "code",
   "execution_count": null,
   "metadata": {
    "cellView": "form",
    "colab": {
     "base_uri": "https://localhost:8080/",
     "height": 17
    },
    "id": "6OartbHh_j_z",
    "outputId": "30d95243-b6d5-44b6-ed93-df59f44271ea"
   },
   "outputs": [],
   "source": [
    "#@title Chapter Stop\n",
    "# %%html\n",
    "# </details>\n"
   ]
  }
 ],
 "metadata": {
  "colab": {
   "collapsed_sections": [
    "E-gBsDaG6gRv",
    "_8QPQOlo7tKN",
    "8b9C4CVb7tKO"
   ],
   "provenance": []
  },
  "kernelspec": {
   "display_name": "Python 3 (ipykernel)",
   "language": "python",
   "name": "python3"
  },
  "language_info": {
   "codemirror_mode": {
    "name": "ipython",
    "version": 3
   },
   "file_extension": ".py",
   "mimetype": "text/x-python",
   "name": "python",
   "nbconvert_exporter": "python",
   "pygments_lexer": "ipython3",
   "version": "3.9.13"
  },
  "toc": {
   "base_numbering": 1,
   "nav_menu": {},
   "number_sections": true,
   "sideBar": true,
   "skip_h1_title": false,
   "title_cell": "Table of Contents",
   "title_sidebar": "Contents",
   "toc_cell": false,
   "toc_position": {},
   "toc_section_display": true,
   "toc_window_display": false
  },
  "toc-autonumbering": false,
  "varInspector": {
   "cols": {
    "lenName": 16,
    "lenType": 16,
    "lenVar": 40
   },
   "kernels_config": {
    "python": {
     "delete_cmd_postfix": "",
     "delete_cmd_prefix": "del ",
     "library": "var_list.py",
     "varRefreshCmd": "print(var_dic_list())"
    },
    "r": {
     "delete_cmd_postfix": ") ",
     "delete_cmd_prefix": "rm(",
     "library": "var_list.r",
     "varRefreshCmd": "cat(var_dic_list()) "
    }
   },
   "types_to_exclude": [
    "module",
    "function",
    "builtin_function_or_method",
    "instance",
    "_Feature"
   ],
   "window_display": false
  }
 },
 "nbformat": 4,
 "nbformat_minor": 1
}
