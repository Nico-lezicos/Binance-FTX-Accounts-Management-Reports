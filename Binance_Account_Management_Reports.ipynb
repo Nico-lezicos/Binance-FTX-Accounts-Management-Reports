{
 "cells": [
  {
   "cell_type": "markdown",
   "metadata": {
    "id": "NG6GP_H-bCGb"
   },
   "source": [
    "# Binance Accounts Management Reports\n",
    "\n",
    "<center><img src=https://seeklogo.com/images/B/binance-coin-bnb-logo-97F9D55608-seeklogo.com.png width=\"100\"</center> "
   ]
  },
  {
   "cell_type": "markdown",
   "metadata": {
    "id": "pTHMa_U65WNR"
   },
   "source": [
    "## Welcome\n",
    "This document is the application document to run get the Binance Datas and run Binance Management Reports.\n",
    "\n",
    "This document allow you to download your datas in your computer locally.\n",
    "\n",
    "You can run this document from Google colab or Jupyter Notebook.\n",
    "Setup: check below information\n",
    "Usage : connect local environment, run environment, settings and document\n",
    "\n",
    "Enjoy"
   ]
  },
  {
   "cell_type": "code",
   "execution_count": null,
   "metadata": {
    "cellView": "form",
    "colab": {
     "base_uri": "https://localhost:8080/"
    },
    "id": "CVKOLzpBrGkF",
    "outputId": "ccec05ad-671b-40f6-e7af-5b7cf7bbaf01",
    "tags": []
   },
   "outputs": [],
   "source": [
    "#@title Last Update\n",
    "# %%html\n",
    "# <marquee style='width: 100%; color: blue;'><b>🚂_/👨🏽‍✈️Nico/_🚋_/V1.0.0 - 29-09-2022/_🚋_</b></marquee>"
   ]
  },
  {
   "cell_type": "markdown",
   "metadata": {
    "id": "oVh-T-LfbWdQ"
   },
   "source": [
    "## Table of Content"
   ]
  },
  {
   "cell_type": "markdown",
   "metadata": {
    "id": "WlYQWEkRbaLe"
   },
   "source": [
    "- Welcome\n",
    "- Requirements\n",
    "  - Localhost\n",
    "  - Virtual Env\n",
    "  - Jupyter\n",
    "  \n",
    "- Setup\n",
    "  - Workstation infos\n",
    "  - Programs\n",
    "    - Installation\n",
    "    - Start\n",
    "    - Control Versions\n",
    "    - Environment\n",
    "    - Variables & Aliases\n",
    "       - Path\n",
    "\n",
    "\n",
    "- Document chapters\n"
   ]
  },
  {
   "cell_type": "markdown",
   "metadata": {
    "id": "DWigZr5dbakC"
   },
   "source": [
    "# Requirements\n",
    "<center><img src=https://cdn-icons-png.flaticon.com/512/4901/4901662.png width=\"25\"</center>"
   ]
  },
  {
   "cell_type": "markdown",
   "metadata": {
    "id": "zZyowBONbpDf"
   },
   "source": [
    "This requirements are set for the current documents deployment.\n",
    "___\n",
    "- Internet Access\n",
    "- Administrative rights\n",
    "- Binance Account\n",
    "- Sub Accounts (optionnal)\n",
    "- API Account(s) : \"read\" access rights minimum\n",
    "- Make sure your computer has the right time !\n",
    "\n",
    "-Try to set the path in Windows `My Documnent/Trading/Trades-Workspace/`.\n",
    "\n",
    "-Try to set the path in Linux `home/Trades/Trades-Workspace/`.\n",
    "\n",
    "\n",
    "Localhost :\n",
    "- Python v 3.9 : \n",
    "> - Windows : `winget install -e --id Python.Python.3`\n",
    "> - Linux : `sudo apt-get python3`\n",
    "\n",
    ">  - option : inspiration Path Python Windows: `C:\\Users\\<your_username>\\AppData\\Local\\Packages\\PythonSoftwareFoundation.Python.3.<version>\\LocalCache\\local-packages\\Python3<version>\\Scripts ` \n",
    "\n",
    ">>Python's Modules :\n",
    ">>>- apt Update : `sudo apt-get update`\n",
    "- request : `pip install request`\n",
    "- datetime : `pip install datetime`\n",
    "- pandas : `pip install pandas`\n",
    "- matplotlib : `pip install matplotlib`\n",
    "\n",
    "\n",
    "Optional :\n",
    "- Transaction Analisys : `pip install ta`\n",
    "- ciso8601 : `pip install ciso8601`\n",
    "\n",
    "\n",
    ">>Jupyter Server :\n",
    "- Jupyter installation : `pip3 install Jupyter` \n",
    "- Upgrade Jupyter/Googl Colab : `pip3 install --upgrade jupyter_http_over_ws>=0.0.7 && jupyter serverextension enable --py jupyter_http_over_ws`\n",
    "\n",
    "\n",
    "Create manually\n",
    "- Sub-Folders :\n",
    ">- /env\n",
    ">- /database\n",
    ">- /database/ftx/reports\n",
    "\n",
    "- Files :\n",
    ">- /env/Login.env\n",
    ">- /env/Sub Account API keys file : \n",
    ">>- filename  : `<your-sub-account-name>.env` \n",
    ">>>- 1st line :`<your_api_key>`\n",
    ">>>- 2nd line :`<your_api_secret>`\n"
   ]
  },
  {
   "cell_type": "markdown",
   "metadata": {
    "id": "tnGSPcbzQwRS"
   },
   "source": [
    "# Document Setup\n",
    "<center><img src=https://icon-library.com/images/easy-icon-png/easy-icon-png-0.jpg width=\"50\"</center>"
   ]
  },
  {
   "cell_type": "markdown",
   "metadata": {
    "id": "dVdwMq-2LhCk"
   },
   "source": [
    "#### - Easy setup :\n",
    "\n",
    "Start a Python's Virtual-env dedicated to the process, this allow you to run the kernel in a separate environnement.\n",
    "\n",
    "copy this shell command in a `your-venv -startup.sh`, and run it\n",
    "- * `sudo` might be required to allow some `ftx python client` usage, as far a solution is found it will be change.\n"
   ]
  },
  {
   "cell_type": "markdown",
   "metadata": {
    "id": "sqEnOX4-A6kN"
   },
   "source": [
    "- `your-venv-startup.sh` sample Linux file\n",
    "\n",
    "```shell\n",
    "# !/bin/bash\n",
    "echo ~~~~~~~~~~~~~~~~~~~~~~~~~~~~~~~\n",
    "echo      1. Python\n",
    "echo ~~~~~~~~~~~~~~~~~~~~~~~~~~~~~~~\n",
    "\n",
    "apt-get update -y\n",
    "#apt-get install python3.8\n",
    "\n",
    "echo ~~~~~~~~~~~~~~~~~~~~~~~~~~~~~~~\n",
    "echo      2. Pip3\n",
    "echo ~~~~~~~~~~~~~~~~~~~~~~~~~~~~~~~\n",
    "\n",
    "apt-get -y install python3-pip\n",
    "\n",
    "echo ~~~~~~~~~~~~~~~~~~~~~~~~~~~~~~~\n",
    "echo      4. VIRTUAL ENV\n",
    "echo ~~~~~~~~~~~~~~~~~~~~~~~~~~~~~~~\n",
    "\n",
    "apt-get -y update\n",
    "apt-get -y upgrade\n",
    "apt-get -y install python3\n",
    "\n",
    "echo ~~~~~~~~~~~~~~~~~~~~~~~~~~~~~~~\n",
    "echo      5. UPGRADE PIP\n",
    "echo ~~~~~~~~~~~~~~~~~~~~~~~~~~~~~~~\n",
    "\n",
    "# -H pip3 install --upgrade pip\n",
    "apt-get update -y\n",
    "\n",
    "echo ~~~~~~~~~~~~~~~~~~~~~~~~~~~~~~~\n",
    "echo      6. Install VirtualEnv\n",
    "echo ~~~~~~~~~~~~~~~~~~~~~~~~~~~~~~~\n",
    "\n",
    "pip3 install virtualenv -y\n",
    "\n",
    "echo ~~~~~~~~~~~~~~~~~~~~~~~~~~~~~~~\n",
    "echo      7. Deploy VirtualEnv\n",
    "echo ~~~~~~~~~~~~~~~~~~~~~~~~~~~~~~~\n",
    "\n",
    "# ftx client 3.8\n",
    "python3 -m venv \"My-TradeEnv\"\n",
    "\n",
    "#chmod +x \"My-TradeEnv\"\n",
    "#sudo chmod -R a+rwx My-TradeEnv\n",
    "\n",
    "echo ~~~~~~~~~~~~~~~~~~~~~~~~~~~~~~~\n",
    "echo      8. Launch VirtualEnv\n",
    "echo ~~~~~~~~~~~~~~~~~~~~~~~~~~~~~~~\n",
    "\n",
    "source My-TradeEnv/bin/activate\n",
    "\n",
    "echo ~~~~~~~~~~~~~~~~~~~~~~~~~~~~~~~\n",
    "echo      9. Install Jupyter\n",
    "echo ~~~~~~~~~~~~~~~~~~~~~~~~~~~~~~~\n",
    "\n",
    "# **** pip as Non root ****\n",
    "pip3 install jupyter\n",
    "\n",
    "echo ~~~~~~~~~~~~~~~~~~~~~~~~~~~~~~~\n",
    "echo   10. upgrade Jupyter Srvr Ext\n",
    "echo ~~~~~~~~~~~~~~~~~~~~~~~~~~~~~~~\n",
    "\n",
    "pip install --upgrade jupyter_http_over_ws>=0.0.7 && jupyter serverextension enable --py jupyter_http_over_ws\n",
    "\n",
    "# sudo chmod +x '=0.0.7'\n",
    "\n",
    "echo ~~~~~~~~~~~~~~~~~~~~~~~~~~~~~~~~~~~~~~~~~\n",
    "echo   11.Launch Jupyter Web Srvr port: 8183\n",
    "echo ~~~~~~~~~~~~~~~~~~~~~~~~~~~~~~~~~~~~~~~~~\n",
    "\n",
    "# Option: remove `--no-browser`, `--allow-root...--NotebookApp...` to use jupyter locally\n",
    "jupyter notebook --allow-root --NotebookApp.allow_origin='https://colab.research.google.com' --port=8183 --NotebookApp.port_retries=0 --no-browser\n",
    "export JUPYTER_TMP_PID=$!\n",
    "\n",
    "```\n",
    "\n"
   ]
  },
  {
   "cell_type": "code",
   "execution_count": null,
   "metadata": {
    "cellView": "form",
    "colab": {
     "base_uri": "https://localhost:8080/"
    },
    "id": "m2Pzv9OfkvAU",
    "outputId": "88c8082e-1e20-4d6f-bb63-36d0a4af891b"
   },
   "outputs": [],
   "source": [
    "#@title Startup\n",
    "# %%html\n",
    "# <details>\n",
    "# <summary>Startup</summary>"
   ]
  },
  {
   "cell_type": "markdown",
   "metadata": {
    "id": "bTHr61CZzzEA"
   },
   "source": [
    "- Google Colab option : click connect local environment : paste your Jupyter's `localhost` Path  "
   ]
  },
  {
   "cell_type": "markdown",
   "metadata": {
    "id": "RAlSJlSEIg95"
   },
   "source": [
    "### - Modules python installation :\n",
    "remove `#` to run the cell\n",
    "<center><img src=https://cdn-icons-png.flaticon.com/512/1313/1313837.png width=\"50\"</center>"
   ]
  },
  {
   "cell_type": "code",
   "execution_count": null,
   "metadata": {
    "cellView": "form",
    "colab": {
     "base_uri": "https://localhost:8080/"
    },
    "id": "WasJwxmVkLSl",
    "outputId": "8fc5328f-b16f-45c3-b26f-c4d005eb8b39"
   },
   "outputs": [],
   "source": [
    "#@title - upgrade pip : `sudo pip install --upgrade pip`\n",
    "!pip3 install --upgrade pip"
   ]
  },
  {
   "cell_type": "code",
   "execution_count": null,
   "metadata": {
    "cellView": "form",
    "colab": {
     "base_uri": "https://localhost:8080/"
    },
    "id": "Bw35hEdN_LAt",
    "outputId": "62802f99-ad77-41e7-df62-16921896e175"
   },
   "outputs": [],
   "source": [
    "#@title - Module : `pip install requests`\n",
    "!pip3 install requests"
   ]
  },
  {
   "cell_type": "code",
   "execution_count": null,
   "metadata": {
    "cellView": "form",
    "id": "lLF-3GvSto2l"
   },
   "outputs": [],
   "source": [
    "#@title - Module : `pip install datetime`\n",
    "# !pip3 install datetime"
   ]
  },
  {
   "cell_type": "code",
   "execution_count": null,
   "metadata": {
    "cellView": "form",
    "colab": {
     "base_uri": "https://localhost:8080/"
    },
    "id": "dYTAcTlocCn7",
    "outputId": "1a35f5c9-2885-4e8e-bd84-35d10fcdb349"
   },
   "outputs": [],
   "source": [
    "#@title - Intalls Module :`pip install pandas`\n",
    "!pip3 install pandas"
   ]
  },
  {
   "cell_type": "code",
   "execution_count": null,
   "metadata": {
    "cellView": "form",
    "colab": {
     "base_uri": "https://localhost:8080/"
    },
    "id": "wGN6hRw3TAW8",
    "outputId": "a56dfa62-a7d3-497b-e0dd-b870700ef9f8"
   },
   "outputs": [],
   "source": [
    "#@title - Install Module : `pip install matplotlib`\n",
    "!pip install matplotlib"
   ]
  },
  {
   "cell_type": "markdown",
   "metadata": {
    "id": "5_0OOmo6oWPe"
   },
   "source": [
    "## **Environment**\n",
    "<center><img src=https://cdn-icons-png.flaticon.com/512/1461/1461141.png width=\"50\"</center>"
   ]
  },
  {
   "cell_type": "code",
   "execution_count": null,
   "metadata": {
    "cellView": "form",
    "colab": {
     "base_uri": "https://localhost:8080/"
    },
    "id": "I3ibkFrOJY8g",
    "outputId": "8ad2ffe2-6132-4abc-930e-86ec2683ad25"
   },
   "outputs": [],
   "source": [
    "#@title - Check OS :\n",
    "import platform\n",
    "\n",
    "if platform.system() == 'Windows':\n",
    "    print(f'Your Computer runs :', platform.system())\n",
    "    !set PATH os.path.dirname(sys.executable)\n",
    "else:\n",
    "    print(\"it might be a Linux\")\n"
   ]
  },
  {
   "cell_type": "markdown",
   "metadata": {
    "id": "eBXDZj-zUGb1"
   },
   "source": [
    "### Variables & Aliases"
   ]
  },
  {
   "cell_type": "code",
   "execution_count": null,
   "metadata": {
    "cellView": "form",
    "colab": {
     "base_uri": "https://localhost:8080/"
    },
    "id": "vJOD9C14XAas",
    "outputId": "711038cc-31c8-4c6c-e9c1-baf3f14e1dcb"
   },
   "outputs": [],
   "source": [
    "#@title - who am I :\n",
    "import os\n",
    "from os.path import expanduser\n",
    "\n",
    "if platform.system() == 'Windows':\n",
    "  home_directory = expanduser(\"~\")\n",
    "  print(f'Your local path :', home_directory)\n",
    "\n",
    "else:\n",
    "  home_directory = expanduser(\"~\")\n",
    "# TBC\n",
    "  print(os.path.expanduser('~'))\n",
    "  print(os.environ['HOME'])\n",
    "  # print('Where am I ? : ')\n",
    "  # !echo $HOME\n",
    "\n",
    "  print('Who am I ? : ')\n",
    "  !whoami"
   ]
  },
  {
   "cell_type": "code",
   "execution_count": null,
   "metadata": {
    "cellView": "form",
    "id": "hr6FaDZZXvDp"
   },
   "outputs": [],
   "source": [
    "#@title - set Variables :\n",
    "\n",
    "USER_FOLDER = home_directory                        # current user drive\n",
    "PROJECT_FOLDER = 'Binance-Accounts-Management-Reports'  # Not too long\n",
    "exchange = 'binance'"
   ]
  },
  {
   "cell_type": "markdown",
   "metadata": {
    "id": "gT6S02QYlpto"
   },
   "source": [
    "### - Path"
   ]
  },
  {
   "cell_type": "code",
   "execution_count": null,
   "metadata": {
    "cellView": "form",
    "colab": {
     "base_uri": "https://localhost:8080/"
    },
    "id": "lg6AZWE2YtIC",
    "jupyter": {
     "source_hidden": true
    },
    "outputId": "e4fe18c1-0c95-4645-c691-616c3cf26dbd",
    "tags": []
   },
   "outputs": [],
   "source": [
    "#@title - Create the path :\n",
    "\n",
    "import os\n",
    "from os.path import expanduser\n",
    "\n",
    "if platform.system() == 'Windows':\n",
    "  #home_path = \"\\home\\\\\" + USER_FOLDER\n",
    "  home_path = USER_FOLDER\n",
    "  trades_path = USER_FOLDER + \"\\Documents\\Trading\\Trades-Workspace\\\\\"\n",
    "  working_path =  trades_path + PROJECT_FOLDER + \"\\\\\"\n",
    "  reports_path =  working_path + \"database\" + \"\\\\\" + exchange + \"\\\\\" + \"reports\" + \"\\\\\" \n",
    "  env_path =  working_path + \"env\" \"\\\\\"\n",
    "\n",
    "else:\n",
    "  home_path = home_directory\n",
    "  trades_path = home_path + \"/Documents/Trades/Trades-Workspace/\"\n",
    "  working_path =  trades_path + PROJECT_FOLDER + \"/\"\n",
    "  reports_path =  working_path + \"database/\" + exchange + \"/reports\" + \"/\"\n",
    "  env_path =  working_path + \"env\" + \"/\"\n",
    "\n",
    "\n",
    "#%whos\n",
    "\n",
    "print(f'reports', reports_path)"
   ]
  },
  {
   "cell_type": "markdown",
   "metadata": {
    "id": "NZP2MlnVPair"
   },
   "source": [
    "### - Directories"
   ]
  },
  {
   "cell_type": "markdown",
   "metadata": {
    "id": "bclvKmDcnkQ_"
   },
   "source": [
    "#### - Directories Linux"
   ]
  },
  {
   "cell_type": "code",
   "execution_count": null,
   "metadata": {
    "cellView": "form",
    "colab": {
     "base_uri": "https://localhost:8080/"
    },
    "id": "1Dpqvoimnnwd",
    "jupyter": {
     "source_hidden": true
    },
    "outputId": "93a994b8-8f09-46d1-a09b-c18e89620138",
    "tags": []
   },
   "outputs": [],
   "source": [
    "#@title Create local Directory\n",
    "%cd $trades_path\n",
    "!mkdir $PROJECT_FOLDER\n",
    "%cd $PROJECT_FOLDER\n",
    "%bookmark working_path $working_path\n",
    "\n",
    "#del $trade-workspace"
   ]
  },
  {
   "cell_type": "code",
   "execution_count": null,
   "metadata": {
    "cellView": "form",
    "colab": {
     "base_uri": "https://localhost:8080/"
    },
    "id": "DLd1vrY6nnwe",
    "outputId": "8e9b8671-c9b7-4fe6-b8cb-956173a60d05"
   },
   "outputs": [],
   "source": [
    "#@title Go to working directory\n",
    "%cd ~\n",
    "%cd working_path\n",
    "!dir"
   ]
  },
  {
   "cell_type": "markdown",
   "metadata": {
    "id": "CJJ8s4fKoPge"
   },
   "source": [
    "### - Where Am I"
   ]
  },
  {
   "cell_type": "code",
   "execution_count": null,
   "metadata": {
    "cellView": "form",
    "colab": {
     "base_uri": "https://localhost:8080/"
    },
    "id": "j76_YB69oTGT",
    "outputId": "29d8a065-4010-407e-9bfe-8dbc81b1bbf4"
   },
   "outputs": [],
   "source": [
    "#@title - Where Am I\n",
    "%pwd"
   ]
  },
  {
   "cell_type": "code",
   "execution_count": null,
   "metadata": {
    "cellView": "form",
    "colab": {
     "base_uri": "https://localhost:8080/"
    },
    "id": "RZXTJgJoltm6",
    "outputId": "9d823dc8-bb3b-4758-ce30-5019edfd30a3"
   },
   "outputs": [],
   "source": [
    "# #@title  End Setup\n",
    "# %%html\n",
    "# </details>"
   ]
  },
  {
   "cell_type": "markdown",
   "metadata": {
    "id": "6BXH3Ho72tLl"
   },
   "source": [
    "# Document"
   ]
  },
  {
   "cell_type": "markdown",
   "metadata": {
    "id": "Nvi-6Bk7SAAt"
   },
   "source": [
    "1. - Install Python & Jupiter, or Conda, or Venv.\n",
    "2. - create documents processes folders & set your personnal paramters by changing the settings \n",
    "3. - connect the document to your venv\n",
    "4. - run the document & wait\n",
    "5. - Enjoy your Coins !\n",
    "\n",
    "\n",
    "- Sub-Accounts\n",
    "- create a file `/env/SUBList.csv`\n",
    "- set your sub accounts names.\n",
    "\n",
    "Sample:\n",
    "Columns Name :\n",
    "- accountName,\n",
    "- PAIR_NAME\n",
    "- PAIR_SYMBOL\n",
    "- FIATSYMBOL\n",
    "- CRYPTOSYMBOL\n",
    "\n",
    "Optional info:\n",
    ">- SUB_ACC_NAME     <!-- # Options -->\n",
    "- LONG_TRSLD\n",
    "- SHORT_TRSLD\n",
    "- SHORT_MARKUP\n",
    "- LONG_MARKUP \n",
    "- SHORT_PRCT\n",
    "- LONG_PRCT\n",
    "\n",
    "Mandatroy\n",
    "- EXCHANGE"
   ]
  },
  {
   "cell_type": "markdown",
   "metadata": {
    "id": "nq7rrfDx7tKM"
   },
   "source": [
    "## 1. Load Settings :\n",
    "<center><img src=https://www.pngmart.com/files/7/Backup-PNG-Transparent-Image.png width=\"50\"</center>"
   ]
  },
  {
   "cell_type": "markdown",
   "metadata": {
    "id": "_8QPQOlo7tKN"
   },
   "source": [
    "#### Working Directory"
   ]
  },
  {
   "cell_type": "code",
   "execution_count": null,
   "metadata": {
    "cellView": "form",
    "colab": {
     "base_uri": "https://localhost:8080/"
    },
    "id": "PjAlXSqa7tKN",
    "outputId": "7c9c3a5d-95b2-4dc9-b919-05430aee67b6"
   },
   "outputs": [],
   "source": [
    "#@title Create working directory\n",
    "# # !rmdir 1\n",
    "%cd working_path\n",
    "# !mkdir 1\n",
    "# !sudo chmod +x 1"
   ]
  },
  {
   "cell_type": "code",
   "execution_count": null,
   "metadata": {
    "cellView": "form",
    "colab": {
     "base_uri": "https://localhost:8080/"
    },
    "id": "NlhGaNbq7tKN",
    "outputId": "ef956ea1-0002-48a6-ace4-67931db93f87"
   },
   "outputs": [],
   "source": [
    "#@title Go to woking directory\n",
    "%cd working_path\n",
    "# cd 1\n",
    "# !dir \"%cd%\"\n",
    "!dir"
   ]
  },
  {
   "cell_type": "markdown",
   "metadata": {
    "id": "8b9C4CVb7tKO"
   },
   "source": [
    "### Context\n",
    "\n"
   ]
  },
  {
   "cell_type": "markdown",
   "metadata": {
    "id": "6uaXEHXnGWAx"
   },
   "source": [
    "### 1.1. - Load Parameters :\n",
    "<center><img src=https://icons-for-free.com/iconfiles/png/512/parameters+icon-1320184417760430130.png width=\"50\"</center>"
   ]
  },
  {
   "cell_type": "code",
   "execution_count": null,
   "metadata": {
    "cellView": "form",
    "id": "OZUbIA_IeMpy"
   },
   "outputs": [],
   "source": [
    "#@title - Binance Read Account's credentials:\n",
    "f=open(env_path+\"ReadB.env\",\"r\")\n",
    "lines=f.read().splitlines()\n",
    "READB_API_KEY=lines[0]\n",
    "READB_API_SECRET=lines[1]\n",
    "f.close()"
   ]
  },
  {
   "cell_type": "code",
   "execution_count": null,
   "metadata": {
    "cellView": "form",
    "colab": {
     "base_uri": "https://localhost:8080/"
    },
    "id": "qq_N2Z2gjSlp",
    "outputId": "81cde647-0810-4dae-85a4-bb0dfff1efa7"
   },
   "outputs": [],
   "source": [
    "#@title - Constant Parameters :\n",
    "\n",
    "# General\n",
    "START_DATE = '2022-06-01'\n",
    "START_DATE_CH = \"01 june 2022\"\n",
    "TF = \"1d\"\n",
    "TFH = \"1h\"\n",
    "\n",
    "# SAMPLE PAIR\n",
    "PAIR_NAME = \"ATOMUSDT\"\n",
    "PAIR_SYMBOL = \"ATOM/USDT\"\n",
    "FIATSYMBOL = \"BUSD\"\n",
    "CRYPTOSYMBOL = \"ATOM\"\n",
    "#SUB_ACC_NAME = 'Trix_ATOM-USDT'\n",
    "accountName = ''\n",
    "\n",
    "# API\n",
    "SUB_API_KEY = READB_API_KEY\n",
    "SUB_API_SECRET = READB_API_SECRET\n",
    "\n",
    "print (\"GENERAL\")\n",
    "# print (\"pair : \" + PAIR_NAME)\n",
    "print (\"Start date : \" + START_DATE)\n",
    "print (\"Start date Char : \" + START_DATE_CH)"
   ]
  },
  {
   "cell_type": "markdown",
   "metadata": {
    "id": "n2AU4M2sC7mj"
   },
   "source": [
    "## 2. - Binance Stock Analyse :\n",
    "<center><img src=https://www.pngmart.com/files/7/Stocks-PNG-Transparent-Image.png width=\"130\"</center>"
   ]
  },
  {
   "cell_type": "markdown",
   "metadata": {
    "id": "QFdwlI-hy1pO"
   },
   "source": [
    "#### Working Directory\n",
    "<center><img src=https://cdn3.iconfinder.com/data/icons/seo-marketing-filled-line/88/folder_share_network_root_directory-512.png width=\"40\"</center>"
   ]
  },
  {
   "cell_type": "code",
   "execution_count": null,
   "metadata": {
    "cellView": "form",
    "colab": {
     "base_uri": "https://localhost:8080/"
    },
    "id": "SlvulUwFy1pP",
    "outputId": "cb0f48fa-3d68-4b9a-d90a-7023eecffe4c"
   },
   "outputs": [],
   "source": [
    "#@title Create working directory\n",
    "%cd working_path\n",
    "!mkdir database\n",
    "%cd database\n",
    "!mkdir binance\n",
    "%cd binance\n",
    "!mkdir reports"
   ]
  },
  {
   "cell_type": "code",
   "execution_count": null,
   "metadata": {
    "cellView": "form",
    "colab": {
     "base_uri": "https://localhost:8080/"
    },
    "id": "9pjbNnlMy1pP",
    "outputId": "c9920c5b-230e-4367-afc5-5a69368de4b6"
   },
   "outputs": [],
   "source": [
    "#@title Go to woking directory\n",
    "%cd working_path\n",
    "!dir"
   ]
  },
  {
   "cell_type": "markdown",
   "metadata": {
    "id": "ed8ZOlZ877nU"
   },
   "source": [
    "#### 2.1. - Accounts Stock Balance :\n",
    "\n",
    "\n",
    "\n",
    "<center><img src=https://www.pngplay.com/wp-content/uploads/6/Balance-Vector-Background-PNG-Image.png width=\"55\"</center>"
   ]
  },
  {
   "cell_type": "markdown",
   "metadata": {
    "id": "xkHeFRFdcGBd"
   },
   "source": [
    "##### 2.1.1 - Fiat & Spot Balance : \n",
    "<center><img src=https://cdn-icons-png.flaticon.com/512/1006/1006547.png width=\"40\"</center>"
   ]
  },
  {
   "cell_type": "markdown",
   "metadata": {
    "id": "g8fqkMBMve2p"
   },
   "source": [
    "###### 2.1.1.1 - Load Fiat & Spot Balance : \n",
    "<center><img src=https://www.pngplay.com/wp-content/uploads/6/Balance-Vector-Transparent-Background.png width=\"30\"</center>"
   ]
  },
  {
   "cell_type": "code",
   "execution_count": null,
   "metadata": {
    "cellView": "form",
    "colab": {
     "base_uri": "https://localhost:8080/"
    },
    "id": "BMa7LL82_DXH",
    "outputId": "3e3c2315-f7db-4485-eef8-56be78cdff46"
   },
   "outputs": [],
   "source": [
    "#@title - Stock Analysis : Get tickers\n",
    "from urllib.request import urlopen\n",
    "from datetime import datetime\n",
    "import pandas as pd\n",
    "\n",
    "currentDateTime = datetime.now().strftime(\"%y%m%d\")\n",
    "\n",
    "if os.path.exists(f'{reports_path}Bin-Tic-{currentDateTime}.csv'):\n",
    "    os.remove(f'{reports_path}Bin-Tic-{currentDateTime}.csv')\n",
    "else:\n",
    "    print(\"Can not delete the file as it doesn't exists\")\n",
    "\n",
    "response = urlopen(\"https://api.binance.com/api/v3/ticker/price\")\n",
    "json_data = response.read().decode('utf-8', 'replace')\n",
    "\n",
    "df_Tic = pd.read_json(json_data)\n",
    "df_Tic.rename(columns={'symbol':'PAIR_NAME', 'price':'Price'}, inplace=True)\n",
    "\n",
    "# ## Export csv\n",
    "df_Tic.to_csv(f'{reports_path}Bin-Tic-{currentDateTime}.csv'\\\n",
    "      , index = False, mode='a', header=True, encoding='utf-8')\n",
    "\n",
    "print(f'export :')\n",
    "!dir {reports_path}Bin-Tic-{currentDateTime}.csv"
   ]
  },
  {
   "cell_type": "code",
   "execution_count": null,
   "metadata": {
    "cellView": "form",
    "colab": {
     "base_uri": "https://localhost:8080/"
    },
    "id": "kSln8EZL9F9k",
    "outputId": "13bf9c4a-690c-40ed-8fc7-55495b0a5142"
   },
   "outputs": [],
   "source": [
    "#@title - Stock Analysis : Get all Pair\n",
    "import requests\n",
    "import json\n",
    "import hmac\n",
    "import time\n",
    "from datetime import datetime\n",
    "import pandas as pd\n",
    "import hashlib\n",
    "from urllib.parse import urlencode\n",
    "\n",
    "KEY = READB_API_KEY\n",
    "SECRET = READB_API_SECRET\n",
    "\n",
    "\n",
    "BASE_URL = \"https://api.binance.com\"  # production base url\n",
    "# BASE_URL = 'https://testnet.binance.vision' # testnet base url\n",
    "\n",
    "\n",
    "currentDateTime = datetime.now().strftime(\"%y%m%d\")\n",
    "\n",
    "if os.path.exists(f'{reports_path}Bin-Pair.csv'):\n",
    "    os.remove(f'{reports_path}Bin-Pair.csv')\n",
    "else:\n",
    "    print(\"Can not delete the file as it doesn't exists\")\n",
    "\n",
    "\n",
    "\n",
    "\"\"\" ======  begin of functions, you don't need to touch ====== \"\"\"\n",
    "\n",
    "\n",
    "def hashing(query_string):\n",
    "    return hmac.new(\n",
    "        SECRET.encode(\"utf-8\"), query_string.encode(\"utf-8\"), hashlib.sha256\n",
    "    ).hexdigest()\n",
    "\n",
    "\n",
    "def get_timestamp():\n",
    "    return int(time.time() * 1000)\n",
    "\n",
    "\n",
    "def dispatch_request(http_method):\n",
    "    session = requests.Session()\n",
    "    session.headers.update(\n",
    "        {\"Content-Type\": \"application/json;charset=utf-8\", \"X-MBX-APIKEY\": KEY}\n",
    "    )\n",
    "    return {\n",
    "        \"GET\": session.get,\n",
    "        \"DELETE\": session.delete,\n",
    "        \"PUT\": session.put,\n",
    "        \"POST\": session.post,\n",
    "    }.get(http_method, \"GET\")\n",
    "\n",
    "\n",
    "# used for sending request requires the signature\n",
    "def send_signed_request(http_method, url_path, payload={}):\n",
    "    query_string = urlencode(payload, True)\n",
    "    if query_string:\n",
    "        query_string = \"{}&timestamp={}\".format(query_string, get_timestamp())\n",
    "    else:\n",
    "        query_string = \"timestamp={}\".format(get_timestamp())\n",
    "\n",
    "    url = (\n",
    "        BASE_URL + url_path + \"?\" + query_string + \"&signature=\" + hashing(query_string)\n",
    "    )\n",
    "    print(\"{} {}\".format(http_method, url))\n",
    "    params = {\"url\": url, \"params\": {}}\n",
    "    response = dispatch_request(http_method)(**params)\n",
    "    return response.json()\n",
    "\n",
    "\n",
    "# used for sending public data request\n",
    "def send_public_request(url_path, payload={}):\n",
    "    query_string = urlencode(payload, True)\n",
    "    url = BASE_URL + url_path\n",
    "    if query_string:\n",
    "        url = url + \"?\" + query_string\n",
    "    print(\"{}\".format(url))\n",
    "    response = dispatch_request(\"GET\")(url=url)\n",
    "    return response.json()\n",
    "\n",
    "\n",
    "\"\"\" ======  end of functions ====== \"\"\"\n",
    "\n",
    "### USER_DATA endpoints, call send_signed_request #####\n",
    "response = send_signed_request(\"GET\", \"/sapi/v1/margin/isolated/allPairs\")\n",
    "#print(response)\n",
    "\n",
    "## Result    \n",
    "df_pair = pd.DataFrame.from_records(response)\n",
    "df_binpair = df_pair \n",
    "df_binpair\n",
    "df_binpair.rename(columns={'symbol':'PAIR_NAME', 'base':'Symbol', 'quote':'FIATSYMBOL'}, inplace=True)\n",
    "\n",
    "# # ## Export csv\n",
    "df_binpair\\\n",
    ".to_csv(f'{reports_path}Bin-Pair.csv'\\\n",
    "      , index = False, mode='a', header=True, encoding='utf-8')\n",
    "\n",
    "# print(f'export :')\n",
    "!dir {reports_path}Bin-Pair-{currentDateTime}.csv"
   ]
  },
  {
   "cell_type": "code",
   "execution_count": null,
   "metadata": {
    "cellView": "form",
    "colab": {
     "base_uri": "https://localhost:8080/"
    },
    "id": "VQqXUVQqSXGs",
    "outputId": "ed849895-226c-4489-a3b1-f5185f9aac9b"
   },
   "outputs": [],
   "source": [
    "#@title - Stock Analysis : Fiat & Spot\n",
    "import requests\n",
    "import json\n",
    "import hmac\n",
    "import time\n",
    "from datetime import datetime\n",
    "import pandas as pd\n",
    "import hashlib\n",
    "from urllib.parse import urlencode\n",
    "\n",
    "KEY = READB_API_KEY\n",
    "SECRET = READB_API_SECRET\n",
    "\n",
    "\n",
    "BASE_URL = \"https://api.binance.com\"  # production base url\n",
    "# BASE_URL = 'https://testnet.binance.vision' # testnet base url\n",
    "\n",
    "\n",
    "currentDateTime = datetime.now().strftime(\"%y%m%d\")\n",
    "\n",
    "if os.path.exists(f'{reports_path}Bin-MA-{currentDateTime}.csv'):\n",
    "    os.remove(f'{reports_path}Bin-MA-{currentDateTime}.csv')\n",
    "else:\n",
    "    print(\"Can not delete the file as it doesn't exists\")\n",
    "\n",
    "\n",
    "\n",
    "\"\"\" ======  begin of functions, you don't need to touch ====== \"\"\"\n",
    "\n",
    "\n",
    "def hashing(query_string):\n",
    "    return hmac.new(\n",
    "        SECRET.encode(\"utf-8\"), query_string.encode(\"utf-8\"), hashlib.sha256\n",
    "    ).hexdigest()\n",
    "\n",
    "\n",
    "def get_timestamp():\n",
    "    return int(time.time() * 1000)\n",
    "\n",
    "\n",
    "def dispatch_request(http_method):\n",
    "    session = requests.Session()\n",
    "    session.headers.update(\n",
    "        {\"Content-Type\": \"application/json;charset=utf-8\", \"X-MBX-APIKEY\": KEY}\n",
    "    )\n",
    "    return {\n",
    "        \"GET\": session.get,\n",
    "        \"DELETE\": session.delete,\n",
    "        \"PUT\": session.put,\n",
    "        \"POST\": session.post,\n",
    "    }.get(http_method, \"GET\")\n",
    "\n",
    "\n",
    "# used for sending request requires the signature\n",
    "def send_signed_request(http_method, url_path, payload={}):\n",
    "    query_string = urlencode(payload, True)\n",
    "    if query_string:\n",
    "        query_string = \"{}&timestamp={}\".format(query_string, get_timestamp())\n",
    "    else:\n",
    "        query_string = \"timestamp={}\".format(get_timestamp())\n",
    "\n",
    "    url = (\n",
    "        BASE_URL + url_path + \"?\" + query_string + \"&signature=\" + hashing(query_string)\n",
    "    )\n",
    "    print(\"{} {}\".format(http_method, url))\n",
    "    params = {\"url\": url, \"params\": {}}\n",
    "    response = dispatch_request(http_method)(**params)\n",
    "    return response.json()\n",
    "\n",
    "\n",
    "# used for sending public data request\n",
    "def send_public_request(url_path, payload={}):\n",
    "    query_string = urlencode(payload, True)\n",
    "    url = BASE_URL + url_path\n",
    "    if query_string:\n",
    "        url = url + \"?\" + query_string\n",
    "    print(\"{}\".format(url))\n",
    "    response = dispatch_request(\"GET\")(url=url)\n",
    "    return response.json()\n",
    "\n",
    "\n",
    "\"\"\" ======  end of functions ====== \"\"\"\n",
    "\n",
    "### USER_DATA endpoints, call send_signed_request #####\n",
    "response = send_signed_request(\"GET\", \"/sapi/v1/capital/config/getall\")\n",
    "#print(response)\n",
    "\n",
    "## Result    \n",
    "df_MA = pd.DataFrame.from_records(response)\n",
    "#df_binMA = df_MA.loc[df_MA['coin'] == 'BUSD' ]\n",
    "df_binMA = df_MA \n",
    "df_binMA['Quantity'] = df_MA['free'].astype(float) + df_MA['locked'].astype(float)\n",
    "df_binMA = df_binMA.loc[df_MA['Quantity'] > 0 ]\n",
    "#df_binMA.reset_index(inplace=True)\n",
    "df_binMA[['accountName']] = 'Main Account'\n",
    "df_binMA.rename(columns={'coin':'Symbol'}, inplace=True)\n",
    "\n",
    "df_binTic = pd.read_csv(f'{reports_path}Bin-Tic-{currentDateTime}.csv', header=0, encoding='utf-8')\n",
    "df_binPair = pd.read_csv(f'{reports_path}Bin-Pair.csv', header=0, encoding='utf-8')\n",
    "df_binPair = df_binPair[df_binPair['FIATSYMBOL'] == FIATSYMBOL]\n",
    "\n",
    "# on PAIR\n",
    "df_binTic = pd.merge(df_binPair, df_binTic, how='left', on='PAIR_NAME')\n",
    "df_binTic = df_binTic[['PAIR_NAME', 'Symbol', 'FIATSYMBOL', 'Price']]\n",
    "df_binMA = pd.merge(df_binMA, df_binTic, how='outer', on='Symbol')\n",
    "df_binMA =  df_binMA.fillna(value={'Quantity':0, 'Price':1})\n",
    "df_binMA['Stock-value'] = df_binMA['Quantity'] * df_binMA['Price']\n",
    "\n",
    "# # ## Export csv\n",
    "df_binMA\\\n",
    ".to_csv(f'{reports_path}Bin-MA-{currentDateTime}.csv'\\\n",
    "      , index = False, mode='a', header=True, encoding='utf-8')\n",
    "\n",
    "print(f'export :')\n",
    "!dir {reports_path}Bin-MA-{currentDateTime}.csv\n",
    "\n",
    "#df_binMA = df_binMA.loc[df_binMA['Symbol'] == 'BUSD' ]\n",
    "#df_binMA"
   ]
  },
  {
   "cell_type": "code",
   "execution_count": null,
   "metadata": {
    "cellView": "form",
    "colab": {
     "base_uri": "https://localhost:8080/",
     "height": 833
    },
    "id": "98z_LFhnUV__",
    "outputId": "d43cfd74-b455-4c88-f836-1c8ad149ec97"
   },
   "outputs": [],
   "source": [
    "#@title - Coins / Fiat & Spot :\n",
    "import pandas as pd\n",
    "from datetime import datetime\n",
    "\n",
    "\n",
    "#names =['coin', 'depositAllEnable', 'withdrawAllEnable', 'name', 'free', 'locked'\\\n",
    "#, 'freeze', 'withdrawing', 'ipoing', 'ipoable', 'storage', 'isLegalMoney', 'trading', 'networkList', 'Total']\n",
    "\n",
    "currentDateTime = datetime.now().strftime(\"%y%m%d\")\n",
    "df_MA = pd.read_csv(f'{reports_path}Bin-MA-{currentDateTime}.csv', header=0, encoding='utf-8')\n",
    "df_MA = df_MA.sort_values(by=['Stock-value'],ascending=False)\n",
    "df_MA = df_MA[df_MA['Stock-value'] > 0.0]\n",
    "df_MA.reset_index(inplace=True)\n",
    "\n",
    "\n",
    "df_MA = df_MA[['Symbol', 'Quantity', 'Price', 'Stock-value']].round({'Quantity':2, 'Price':2, 'Stock-value':2})\n",
    "df_MA"
   ]
  },
  {
   "cell_type": "code",
   "execution_count": null,
   "metadata": {
    "cellView": "form",
    "colab": {
     "base_uri": "https://localhost:8080/"
    },
    "id": "_muc0JnqPhFh",
    "outputId": "7869736a-460c-4954-c05b-2efbfa4396ad"
   },
   "outputs": [],
   "source": [
    "#@title - Total Main Account Coins / Main Accounts :\n",
    "import pandas as pd\n",
    "from datetime import datetime\n",
    "\n",
    "currentDateTime = datetime.now().strftime(\"%y%m%d\")\n",
    "df_MA = pd.read_csv(f'{reports_path}Bin-MA-{currentDateTime}.csv', header=0, encoding='utf-8')\n",
    "df_MA.rename(columns={'coin':'Symbol', 'free':'Quantity', 'Total':'Stock-value'}, inplace=True)\n",
    "df_MA = df_MA.sort_values(by=['Stock-value'],ascending=False)\n",
    "df_MA = df_MA[df_MA['Stock-value'] > 0.0]\n",
    "df_MA.reset_index(inplace=True)\n",
    "\n",
    "sum_MA = df_MA['Stock-value'].sum()\n",
    "print(f'Total Fiat & Spot / {FIATSYMBOL} :', round(sum_MA,2))"
   ]
  },
  {
   "cell_type": "markdown",
   "metadata": {
    "id": "0mWcKOFlvkrM"
   },
   "source": [
    "###### 2.1.1.2 - Plot Fiat & Spot Balance : \n",
    "\n",
    "<center><img src=https://www.pngplay.com/wp-content/uploads/7/Business-Growth-Chart-PNG-Clipart-Background.png width=\"50\"</center>"
   ]
  },
  {
   "cell_type": "code",
   "execution_count": null,
   "metadata": {
    "cellView": "form",
    "colab": {
     "base_uri": "https://localhost:8080/",
     "height": 300
    },
    "id": "yhizJRqO8ybB",
    "outputId": "1167add3-999e-4601-a026-63c88565d53c"
   },
   "outputs": [],
   "source": [
    "#@title - Symbol Balance Division : Fiat & Spot\n",
    "import matplotlib.pyplot as plt\n",
    "import pandas as pd\n",
    "from datetime import datetime\n",
    "\n",
    "currentDateTime = datetime.now().strftime(\"%y%m%d\")\n",
    "df_MA = pd.read_csv(f'{reports_path}Bin-MA-{currentDateTime}.csv', header=0, encoding='utf-8')\n",
    "df_MA.rename(columns={'coin':'Symbol', 'free':'Quantity', 'Total':'Stock-value'}, inplace=True)\n",
    "df_MA = df_MA.sort_values(by=['Stock-value'],ascending=False)\n",
    "df_MA = df_MA[df_MA['Stock-value'] > 0.0]\n",
    "df_MA.reset_index(inplace=True)\n",
    "\n",
    "df_MA = df_MA[df_MA['Stock-value'] > 10]\n",
    "labels = df_MA['Symbol'].tolist()\n",
    "\n",
    "#df_MA.plot(label='Stock Analysis', kind='pie', autopct='%1.0f%%', y='Stock-value', labels=labels, shadow=True, startangle=90, figsize=(7, 7))\n",
    "df_MA.plot(label='Binance Fiat & Spot Stock Analysis', kind='pie', autopct='%1.0f%%', y='Stock-value', labels=labels, shadow=True, startangle=90)\n",
    "\n",
    "plt.title('Fiat & Spot Division',x=0.5, y=0.5)\n",
    "plt.axis('equal')\n",
    "plt.legend().remove()\n",
    "plt.show()"
   ]
  },
  {
   "cell_type": "code",
   "execution_count": null,
   "metadata": {
    "cellView": "form",
    "colab": {
     "base_uri": "https://localhost:8080/",
     "height": 319
    },
    "id": "YUgq9wdH89gg",
    "outputId": "ed76835f-30b3-47d8-c597-0f95bfe8b315"
   },
   "outputs": [],
   "source": [
    "#@title - Symbol Balance Values : Fiat & Spot\n",
    "import matplotlib.pyplot as plt\n",
    "\n",
    "import pandas as pd\n",
    "from datetime import datetime\n",
    "\n",
    "currentDateTime = datetime.now().strftime(\"%y%m%d\")\n",
    "df_MA = pd.read_csv(f'{reports_path}Bin-MA-{currentDateTime}.csv', header=0, encoding='utf-8')\n",
    "df_MA.rename(columns={'coin':'Symbol', 'free':'Quantity', 'Total':'Stock-value'}, inplace=True)\n",
    "df_MA = df_MA.sort_values(by=['Stock-value'],ascending=False)\n",
    "df_MA = df_MA[df_MA['Stock-value'] > 0.0]\n",
    "df_MA.reset_index(inplace=True)\n",
    "\n",
    "\n",
    "\n",
    "df_MA = df_MA[df_MA['Stock-value'] > 10]\n",
    "values = round(df_MA['Stock-value'],2).tolist()\n",
    "bar_labels = df_MA['Symbol'].tolist()\n",
    "coin = df_MA['Symbol'].tolist()\n",
    "\n",
    "\n",
    "# function to add value labels\n",
    "def addlabels(x,y):\n",
    "    for i in range(len(x)):\n",
    "        plt.text(i,y[i],y[i])\n",
    "\n",
    "fig, ax = plt.subplots()\n",
    "\n",
    "data_color = [x / max(values) for x in values]\n",
    "bar_colors = plt.cm.rainbow(data_color)\n",
    "\n",
    "ax.bar(coin, values, label=bar_labels, color=bar_colors)\n",
    "\n",
    "\n",
    "ax.set_ylabel('coin')\n",
    "ax.set_title('Fiat & Spot Values')\n",
    "# ax.legend(title='Coin')\n",
    "\n",
    "# calling the function to add value labels\n",
    "addlabels(coin, values)\n",
    "\n",
    "plt.rcParams[\"figure.figsize\"] = (30, 10)\n",
    "plt.autoscale()\n",
    "plt.xlabel('values')\n",
    "\n",
    "\n",
    "plt.show()"
   ]
  },
  {
   "cell_type": "markdown",
   "metadata": {
    "id": "Qi0KMf8bj6n_"
   },
   "source": [
    "##### 2.1.2 -  Earn Balances :\n",
    "<center><img ![image.png](data:image/png;base64,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) width=\"50\"</center>"
   ]
  },
  {
   "cell_type": "markdown",
   "metadata": {
    "id": "HeJ7cuEVUAmR"
   },
   "source": [
    "![image.png](data:image/png;base64,iVBORw0KGgoAAAANSUhEUgAAADAAAAAwCAYAAABXAvmHAAAGpElEQVRogcWaW2wcZxXHf2fi1rszm9g48UVJ3Lg0yJVjmfSiyriicYgECZfEEVREQlHyACII1Aduog8VUnkACYoAIRHxQiOVKimCpjUNsSpyozFNVdPaJRcnrmrHiXfXTurbzuw6Wc/hYe2NN7v2zozt8JdGmvm+853zPzPfdc4RlgCqGrJte4uIPAlsUNV1wHoRWTdTfw24LiLXgQFVPWtZ1mkRSS3WtgRt6DhOLfC0qn4BeAoI+VSRAk6LSAfwimma14Pw8O2Aqq6xbfs5ETkA3B/EaAEkReR34XD4BREZ8dPQswOqGnEc50fA94GIX4YebUyKyK9N03xBRCa9tPHkQCqVqk+n00dF5OHFUfQGVb2wYsWKL4fD4Y+KyRZ1IJlMbpuenv6biKxaGnreoKo3DMNoM03z7EJyxkKVtm1/23XdjntNHkBE1qjqiUQisXdBufkqbNs+APxhyZkFw3csyzpYqKKgA47jtKjqKeC+ZaXlHbdFZGuh7pTngOM4613X/Y+IVAY2N/UhkuqGqQ8zz6UPoaFPQ+lDgVWq6ohhGI+apnltbrncJbTScZwzwOZAVtwEMvJ7ZOJ4YRKrtqOV3wMj8Cz8nmmaLXNX8JxB7DjOD1gM+avPwNgbqDtd8GLsjYyMmwjqwCOO4/xkbkH2CyQSiWqgV0TKgmiWoZ/B+DFvwmVfRNc+F8QMqjpmWVadiIxD7hd4Nih5UpfR0fa8Nx51mog6TflfY7QdbkcDmRKR8mQy+Wz2GTJvX0T68b8hy+DGy2j0VzlFg4km/vzOZwH4xhP/ojbSk1M/Gv4WE6W7Cqqrq11bzGJSVT8ZiURiJQAisjsweWBypIuIO519Ph/byF97moE0AH96q5mvNk2yqaYvK3P5Yicdl/LX0V07WqG2qMmwiLQBB2c1tAUhnkxNceRoB30fDaCazl6uunmyrro5MhSQ2bWjlc2N9V7NtwEYqroS2BqE/KEj7Vy60k98YjW409mrseoiuzcdAxRQdm86RmPVxRyZMSd3KvVJHmCrqt5Xkkwmv4TPff0s+fjwTQD6R9ejbjpHZlPVBcCdub+U98J7R+4sauVlK/2SB7jftu1thqr63iKf6/ogSx4gnqiiO9qQN9s0rDlPw5rzeeXd0QbGUncmvLHxSU6dfdcvDUSk2QDq/DQaG5/kdGdXXvmbfduIT64GN73gFZ9czZt92/Lan+7sIpma8utDnaGqvhy4dKXwGSOVDvFSz156Yo3zrsQ9sUZe6tlLKp2Z8La0PMaWlseyOnr7+n2xV9W6EqDGlwN9A/PWpdIh2q+0ceZqK/UVF6i2YgDE7Rp6P25gfKo8K7uhdi2tTz4OQP9glIHBIbrPX6a8bCUAodJSaqpWF6NT49uB+PCNojLjU+W8E21ZWM/ITcbGJ7P3AP1Xh+i/OgRkHNy/5yvFTNWUFGUDvHi4nYHBIS+inpFKTfHbP768aD0GEFs8nf8bYiVkHFhwEp7bF+PDN0hN3VpmXhAq9bQ0ZR1YENs/d6c/Hz/RybmuD4Iz84DqyorMnqg4Yr67UP1GX7Oub1RXVrBvz07CoVIv4jHDMIy3/Rh48IG1bCi+3Q0En+QxDONtIxwOHwN8deq2Ha1e+6hn+CUP3AqHw383RGQCOOnHWHnZSq991BMCkAc4KSKJ2fPAUb9GH/7Ug0viREDyMMN51oHXyGze7zk2N9YHIa+q+ipACYBlWVHbtp8HfupVw/v/7eW1f5zKKy82wO9eRzpO/ptQqNTveeD5SCQShzm/VVR1lW3bl0Wk2ouGgy/+hfjIxzllXk5VseGbHDr8eo4T1ZUVHNj/tCfmqjpsWdbG2fhB9lQtIhOGYfzCkxZg356dVFdW+CIPmVV9356d2Vlsdgx4hWEYP58b/Lj712KJbdv/FJGnvChLpqY4dPh1mh9v8n0kjA3f5PiJTr7e9nk/Y+At0zS3ikj2/Jr3c1dVKx3HeRd4wBej5cegaZqPikjOfj7vx8xMkK0NuH2vmHlAUlV33k0e5onQWJb1HvDMstPyCBHZH4lE3i9UN2+IaSYicgCf24wlxi3gm6ZpvjKfQNEgn+M4n3Fdt11Eih5QlxhREdltmua5hYQ8hVmTyeQG13VfBR5ZEmrF0a2q2yORSNGt/oJRylmEw+EB0zSbReSHqjq6eH6Foaqjqvpj0zSf8EIegqUafGIm1eC7LGGqAfAb0zR/KSK+XtBikz2+NpPssYVgyR5nZpI9jtyzZI9CmCfdZp2IrJ+pvw5cW450m/8Be5sOE+GAEQEAAAAASUVORK5CYII=)"
   ]
  },
  {
   "cell_type": "markdown",
   "metadata": {
    "id": "b9_6TZfRTU24"
   },
   "source": [
    "###### - Coins / Spot & Earn Balances : \n",
    "<center><img src=https://pics.clipartpng.com/Gold_Coins_PNG_Clipart-664.png width=\"50\"</center>"
   ]
  },
  {
   "cell_type": "markdown",
   "metadata": {
    "id": "I931J5A1vqvp"
   },
   "source": [
    "###### 2.1.2.1 - Load Earn Balances : \n",
    "<center><img src=https://www.freeiconspng.com/uploads/libra-png-10.png width=\"50\"</center>"
   ]
  },
  {
   "cell_type": "code",
   "execution_count": null,
   "metadata": {
    "cellView": "form",
    "colab": {
     "base_uri": "https://localhost:8080/"
    },
    "id": "52d-HpbgYdRe",
    "outputId": "b0718124-210c-4de5-b823-f363f2947f36"
   },
   "outputs": [],
   "source": [
    "#@title - Get : Simple Earn flexible Balance\n",
    "import requests\n",
    "import json\n",
    "import hmac\n",
    "import time\n",
    "from datetime import datetime\n",
    "import pandas as pd\n",
    "import hashlib\n",
    "from urllib.parse import urlencode\n",
    "\n",
    "KEY = READB_API_KEY\n",
    "SECRET = READB_API_SECRET\n",
    "BASE_URL = \"https://api.binance.com\"  # production base url\n",
    "# BASE_URL = 'https://testnet.binance.vision' # testnet base url\n",
    "\n",
    "\n",
    "currentDateTime = datetime.now().strftime(\"%y%m%d\")\n",
    "\n",
    "if os.path.exists(f'{reports_path}Bin-flex-{currentDateTime}.csv'):\n",
    "    os.remove(f'{reports_path}Bin-flex-{currentDateTime}.csv')\n",
    "else:\n",
    "    print(\"Can not delete the file as it doesn't exists\")\n",
    "\n",
    "\n",
    "\n",
    "\"\"\" ======  begin of functions, you don't need to touch ====== \"\"\"\n",
    "\n",
    "\n",
    "def hashing(query_string):\n",
    "    return hmac.new(\n",
    "        SECRET.encode(\"utf-8\"), query_string.encode(\"utf-8\"), hashlib.sha256\n",
    "    ).hexdigest()\n",
    "\n",
    "\n",
    "def get_timestamp():\n",
    "    return int(time.time() * 1000)\n",
    "\n",
    "\n",
    "def dispatch_request(http_method):\n",
    "    session = requests.Session()\n",
    "    session.headers.update(\n",
    "        {\"Content-Type\": \"application/json;charset=utf-8\", \"X-MBX-APIKEY\": KEY}\n",
    "    )\n",
    "    return {\n",
    "        \"GET\": session.get,\n",
    "        \"DELETE\": session.delete,\n",
    "        \"PUT\": session.put,\n",
    "        \"POST\": session.post,\n",
    "    }.get(http_method, \"GET\")\n",
    "\n",
    "\n",
    "# used for sending request requires the signature\n",
    "def send_signed_request(http_method, url_path, payload={}):\n",
    "    query_string = urlencode(payload, True)\n",
    "    if query_string:\n",
    "        query_string = \"{}&timestamp={}\".format(query_string, get_timestamp())\n",
    "    else:\n",
    "        query_string = \"timestamp={}\".format(get_timestamp())\n",
    "\n",
    "    url = (\n",
    "        BASE_URL + url_path + \"?\" + query_string + \"&signature=\" + hashing(query_string)\n",
    "    )\n",
    "    print(\"{} {}\".format(http_method, url))\n",
    "    params = {\"url\": url, \"params\": {}}\n",
    "    response = dispatch_request(http_method)(**params)\n",
    "    return response.json()\n",
    "\n",
    "\n",
    "# used for sending public data request\n",
    "def send_public_request(url_path, payload={}):\n",
    "    query_string = urlencode(payload, True)\n",
    "    url = BASE_URL + url_path\n",
    "    if query_string:\n",
    "        url = url + \"?\" + query_string\n",
    "    print(\"{}\".format(url))\n",
    "    response = dispatch_request(\"GET\")(url=url)\n",
    "    return response.json()\n",
    "\n",
    "\n",
    "\"\"\" ======  end of functions ====== \"\"\"\n",
    "\n",
    "### USER_DATA endpoints, call send_signed_request #####\n",
    "# get account informtion\n",
    "# if you can see the account details, then the API key/secret is correct\n",
    "response = send_signed_request(\"GET\", \"/sapi/v1/lending/daily/token/position\")\n",
    "#print(response)\n",
    "\n",
    "\n",
    "## Result    \n",
    "df_flex = pd.DataFrame.from_records(response)\n",
    " #df_binMA = df_MA.loc[df_MA['coin'] == 'BUSD' ]\n",
    "df_binflex = df_flex \n",
    "# df_binflex['Total'] = df_flex['free'].astype(float) + df_MA['locked'].astype(float)\n",
    "df_binflex = df_binflex.loc[df_binflex['totalAmount'].astype(float) > 0 ]\n",
    "# #df_binMA.reset_index(inplace=True)\n",
    "df_binflex[['accountName']] = 'Simple-Earn-Flexible'\n",
    "df_binflex.rename(columns={'asset':'Symbol','totalAmount':'Quantity'}, inplace=True)\n",
    "\n",
    "## Load Price\n",
    "df_binTic = pd.read_csv(f'{reports_path}Bin-Tic-{currentDateTime}.csv', header=0, encoding='utf-8')\n",
    "df_binPair = pd.read_csv(f'{reports_path}Bin-Pair.csv', header=0, encoding='utf-8')\n",
    "df_binPair = df_binPair[df_binPair['FIATSYMBOL'] == FIATSYMBOL]\n",
    "\n",
    "## on PAIR\n",
    "df_binTic = pd.merge(df_binPair, df_binTic, how='left', on='PAIR_NAME')\n",
    "df_binTic = df_binTic[['PAIR_NAME', 'Symbol', 'FIATSYMBOL', 'Price']]\n",
    "\n",
    "df_binflex = pd.merge(df_binflex, df_binTic, how='outer', on='Symbol')\n",
    "df_binflex =  df_binflex.fillna(value={'Quantity':0, 'Price':1})\n",
    "df_binflex['Stock-value'] = df_binflex['Quantity'].astype(float) * df_binflex['Price']\n",
    "\n",
    "# # asset,productId,productName,dailyInterestRate,annualInterestRate,avgAnnualInterestRate,totalAmount,lockedAmount,freeAmount,freezeAmount,totalInterest,canRedeem,redeemingAmount,todayPurchasedAmount,tierAnnualInterestRate\n",
    "\n",
    "\n",
    "# # # ## Export csv\n",
    "df_binflex\\\n",
    ".to_csv(f'{reports_path}Bin-flex-{currentDateTime}.csv'\\\n",
    "      , index = False, mode='a', header=True, encoding='utf-8')\n",
    "\n",
    "\n",
    "print(f'export :')\n",
    "!dir {reports_path}Bin-flex-{currentDateTime}.csv\n",
    "\n",
    "#df_binflex = df_binflex.loc[df_binflex['Symbol'] == 'ETH' ]\n",
    "#df_binflex[['Symbol', 'Quantity', 'Price', 'Stock-value']]"
   ]
  },
  {
   "cell_type": "code",
   "execution_count": null,
   "metadata": {
    "cellView": "form",
    "colab": {
     "base_uri": "https://localhost:8080/"
    },
    "id": "CYrT4pgbLayI",
    "outputId": "105553a2-4575-4a05-8afe-d3bbc73c4e3d"
   },
   "outputs": [],
   "source": [
    "#@title - Sum Simple Earn Flexible :\n",
    "import pandas as pd\n",
    "from datetime import datetime\n",
    "\n",
    "currentDateTime = datetime.now().strftime(\"%y%m%d\")\n",
    "df_binflex = pd.read_csv(f'{reports_path}Bin-MA-{currentDateTime}.csv', header=0, encoding='utf-8')\n",
    "df_binflex.rename(columns={'coin':'Symbol', 'free':'Quantity', 'Total':'Stock-value'}, inplace=True)\n",
    "df_binflex = df_binflex.sort_values(by=['Stock-value'],ascending=False)\n",
    "df_binflex = df_binflex[df_binflex['Stock-value'] > 0.0]\n",
    "df_binflex.reset_index(inplace=True)\n",
    "\n",
    "TotalSub = df_binflex['Stock-value'].sum()\n",
    "\n",
    "print(f'Total :', round(TotalSub,2))"
   ]
  },
  {
   "cell_type": "code",
   "execution_count": null,
   "metadata": {
    "cellView": "form",
    "colab": {
     "base_uri": "https://localhost:8080/",
     "height": 424
    },
    "id": "StFmrOjJLGCt",
    "outputId": "84967e9a-55a7-429f-8604-977600bcf24d"
   },
   "outputs": [],
   "source": [
    "#@title - Symbol Groups values / Simple earn flexible :\n",
    "currentDateTime = datetime.now().strftime(\"%y%m%d\")\n",
    "\n",
    "df_binflex = pd.read_csv(f'{reports_path}Bin-flex-{currentDateTime}.csv', header=0, encoding='utf-8')\n",
    "df_binflex.rename(columns={'asset':'Symbol', 'totalAmount':'Quantity'}, inplace=True)\n",
    "df_binflex = df_binflex.sort_values(by=['Quantity'],ascending=False)\n",
    "df_binflex.reset_index(inplace=True)\n",
    "\n",
    "\n",
    "symbolGroup = df_binflex[['Symbol', 'accountName', 'Quantity','Stock-value']]\\\n",
    ".groupby(['Symbol']).sum(numeric_only=True)\\\n",
    ".round({'Quantity':2})\n",
    "\n",
    "symbolGroup['%'] = 100 * symbolGroup['Stock-value'] / symbolGroup['Stock-value'].sum()\n",
    "# Reset index\n",
    "symbolGroup.reset_index(inplace=True) \n",
    "symbolGroup = symbolGroup.sort_values(by=['Stock-value'],ascending=False).round({'Quantity':2, 'Stock-value':2, '%':2})\n",
    "\n",
    "symbolGroup"
   ]
  },
  {
   "cell_type": "markdown",
   "metadata": {
    "id": "wE6RB8sTixXE"
   },
   "source": [
    "###### 2.1.2.2 - Coins / Sub-Account Balance : \n",
    "<center><img src=https://static.vecteezy.com/system/resources/previews/001/187/079/original/chart-png.png width=\"50\"</center>"
   ]
  },
  {
   "cell_type": "code",
   "execution_count": null,
   "metadata": {
    "cellView": "form",
    "colab": {
     "base_uri": "https://localhost:8080/",
     "height": 303
    },
    "id": "_BF4ow4pai4V",
    "outputId": "6e56ca78-0e0d-4748-b634-af395514bf39"
   },
   "outputs": [],
   "source": [
    "#@title - Symbol Balance Division / Sub-Accounts :\n",
    "import matplotlib.pyplot as plt\n",
    "\n",
    "df_sa_condense = symbolGroup.sort_values(by=['Stock-value'], ascending=False)\n",
    "df_sa_condense = symbolGroup\n",
    "df_sa_condense.reset_index(inplace=True) \n",
    "\n",
    "labels = symbolGroup['Symbol'].tolist()\n",
    "\n",
    "# df_list.plot(label='Sub Account Balance', kind='pie', autopct='%1.0f%%',labels=labels, y='actual_value', shadow=True, startangle=90)\n",
    "# df_sa_condense.plot(label='Coins', kind='pie', autopct='%1.0f%%',labels=labels, y='actual_value', shadow=True, startangle=90, figsize=(7, 7))\n",
    "df_sa_condense.plot(label='FTX Accounts', kind='pie', autopct='%1.0f%%',labels=labels, y='Stock-value', shadow=True, startangle=90)\n",
    "\n",
    "#df.sum().plot(kind='pie', autopct='%1.0f%%', y='points')\n",
    "\n",
    "plt.title('Sub Acc Coin Division',x=0.5, y=0.5)\n",
    "plt.axis('equal')\n",
    "plt.legend().remove()\n",
    "plt.show()"
   ]
  },
  {
   "cell_type": "code",
   "execution_count": null,
   "metadata": {
    "cellView": "form",
    "colab": {
     "base_uri": "https://localhost:8080/",
     "height": 319
    },
    "id": "0My-SoeojlzV",
    "outputId": "65c259ca-709f-41e4-fd85-66d3d33c235a"
   },
   "outputs": [],
   "source": [
    "#@title - Coins / Simple Earn Flexible Balance Values :  > 10\n",
    "import matplotlib.pyplot as plt\n",
    "\n",
    "# currentDateTime = datetime.now().strftime(\"%y%m%d\")\n",
    "# df_sa_balances = pd.read_csv(f'Ftx-SA-balances-{currentDateTime}.csv', encoding='utf-8', names =['coin', 'total', 'free', 'availableForWithdrawal', 'availableWithoutBorrow', 'usdValue', 'spotBorrow', 'accountName'])\n",
    "# df_sa_balances.rename(columns={'coin':'Symbol', 'total':'Quantity', 'usdValue':'Stock-value'}, inplace=True)\n",
    "# df_sa_balances = df_sa_balances.loc[df_sa_balances['Stock-value'] > 0 ]\n",
    "\n",
    "# df_sa_condense_coin = df_sa_balances['Symbol']\n",
    "# df_sa_condense = df_sa_balances[df_sa_balances['Stock-value'] > 10]\n",
    "# df_sa_condense = df_sa_condense.sort_values(by=['Stock-value'],ascending=False)\n",
    "\n",
    "df_sa_condense = symbolGroup.sort_values(by=['Stock-value'], ascending=False)\n",
    "df_sa_condense = df_sa_condense[df_sa_condense['Stock-value'] > 10]\n",
    "#df_sa_condense.reset_index(inplace=True) \n",
    "\n",
    "values = round(df_sa_condense['Stock-value'],2).tolist()\n",
    "bar_labels = df_sa_condense['Symbol'].tolist()\n",
    "coin = df_sa_condense['Symbol'].tolist()\n",
    "\n",
    "\n",
    "# function to add value labels\n",
    "def addlabels(x,y):\n",
    "    for i in range(len(x)):\n",
    "        plt.text(i,y[i],y[i])\n",
    "\n",
    "fig, ax = plt.subplots()\n",
    "\n",
    "data_color = [x / max(values) for x in values]\n",
    "bar_colors = plt.cm.rainbow(data_color)\n",
    "# bar_colors = ['tab:red', 'tab:blue', 'tab:red', 'tab:orange']\n",
    "\n",
    "ax.bar(coin, values, label=bar_labels, color=bar_colors)\n",
    "\n",
    "ax.set_ylabel('Stock Value')\n",
    "ax.set_title('Sub Acc Coin Values')\n",
    "# ax.legend(title='Coin')\n",
    "\n",
    "# calling the function to add value labels\n",
    "addlabels(coin, values)\n",
    "\n",
    "plt.rcParams[\"figure.figsize\"] = (30, 10)\n",
    "plt.autoscale\n",
    "plt.xlabel('values')\n",
    "\n",
    "\n",
    "plt.show()"
   ]
  },
  {
   "cell_type": "markdown",
   "metadata": {
    "id": "nY5_8_73TU2y"
   },
   "source": [
    "##### 2.1.3 - Concatenate Spot & Earn Balance :\n",
    "\n",
    "<center><img src=https://cdn-icons-png.flaticon.com/512/229/229804.png width=\"50\"</center>"
   ]
  },
  {
   "cell_type": "code",
   "execution_count": null,
   "metadata": {
    "colab": {
     "base_uri": "https://localhost:8080/",
     "height": 919
    },
    "id": "I1O06ADaTU25",
    "outputId": "dfc080ff-5665-4189-eb67-75917a7e163f"
   },
   "outputs": [],
   "source": [
    "#@title - Concat Accounts : Coins / fiat\n",
    "import pandas as pd\n",
    "from datetime import datetime\n",
    "currentDateTime = datetime.now().strftime(\"%y%m%d\")\n",
    "\n",
    "\n",
    "# Fiat & Spot\n",
    "df_MA = pd.read_csv(f'{reports_path}Bin-MA-{currentDateTime}.csv', header=0, encoding='utf-8')\n",
    "df_MA = df_MA.sort_values(by=['Stock-value'],ascending=False)\n",
    "df_MA = df_MA[df_MA['Stock-value'] > 0.0]\n",
    "df_MA.reset_index(inplace=True)\n",
    "\n",
    "# Simple Earn Flexible\n",
    "df_binflex = pd.read_csv(f'{reports_path}Bin-flex-{currentDateTime}.csv', header=0, encoding='utf-8')\n",
    "df_binflex.rename(columns={'asset':'Symbol', 'totalAmount':'Quantity'}, inplace=True)\n",
    "df_binflex = df_binflex.sort_values(by=['Quantity'],ascending=False)\n",
    "df_binflex = df_binflex[df_binflex['Stock-value'] > 0.0]\n",
    "df_binflex.reset_index(inplace=True)\n",
    "\n",
    "# Concat\n",
    "df_concat_bin = pd.concat([df_MA, df_binflex])\n",
    "df_concat_bin =  df_concat_bin.fillna(value={'Quantity':0, 'Stock-value':0, 'accountName':'Spot & Flex', 'Stock-value':0})\n",
    "df_concat_bin[['Symbol', 'Quantity', 'Price', 'Stock-value']].round({'Quantity':2, 'Price':4, 'Stock-value':2})\n",
    "df_concat_bin = df_concat_bin.sort_values(by=['Stock-value'], ascending=False)\n",
    "\n",
    "df_concat_bin[['Symbol', 'Quantity', 'Stock-value']].groupby(['Symbol']).sum(numeric_only=True).round({'Quantity':2, 'Price':4, 'coinSum':2,'Stock-value':2})\n",
    "df_concat_bin['%'] = 100 * df_concat_bin['Stock-value'] / df_concat_bin['Stock-value'].sum()\n",
    "df_concat_bin = df_concat_bin.sort_values(by=['Stock-value'],ascending=False).round({'Quantity':2, 'Price':4, 'Stock-value':2, '%':2})\n",
    "df_concat_bin.reset_index(inplace=True)\n",
    "\n",
    "#subflex_bin = df_concat_bin[['Symbol']]\\\n",
    "\n",
    "subflex_bin = df_concat_bin[['Symbol', 'Quantity', 'Price', 'Stock-value', '%']]\\\n",
    ".groupby(['Symbol']).sum(numeric_only=True)\\\n",
    ".round({'%':2})\n",
    "subflex_bin = subflex_bin.sort_values(by=['Stock-value'],ascending=False).round({'Quantity':2, 'Price':2, 'Stock-value':2, '%':2})\n",
    "\n",
    "# # Show full Dataframe\n",
    "pd.set_option('display.max_rows', None)\n",
    "pd.set_option('display.max_columns', None)\n",
    "pd.set_option('display.width', None)\n",
    "pd.set_option('display.max_colwidth', None)\n",
    "\n",
    "#df_concat_ftx\n",
    "subflex_bin"
   ]
  },
  {
   "cell_type": "code",
   "execution_count": null,
   "metadata": {
    "cellView": "form",
    "colab": {
     "base_uri": "https://localhost:8080/",
     "height": 303
    },
    "id": "FZRiaqCWa3pu",
    "outputId": "b7d638d9-46fc-45d8-9276-fe254c33d42f"
   },
   "outputs": [],
   "source": [
    "#@title - Symbol Balance Division / Sub-Accounts :\n",
    "import matplotlib.pyplot as plt\n",
    "\n",
    "df_sa_condense = subflex_bin.sort_values(by=['Stock-value'], ascending=False)\n",
    "df_sa_condense.reset_index(inplace=True) \n",
    "\n",
    "labels = symbolGroup['Symbol'].tolist()\n",
    "\n",
    "# df_list.plot(label='Sub Account Balance', kind='pie', autopct='%1.0f%%',labels=labels, y='actual_value', shadow=True, startangle=90)\n",
    "# df_sa_condense.plot(label='Coins', kind='pie', autopct='%1.0f%%',labels=labels, y='actual_value', shadow=True, startangle=90, figsize=(7, 7))\n",
    "df_sa_condense.plot(label='Binance Spot & Flex', kind='pie', autopct='%1.0f%%',labels=labels, y='Stock-value', shadow=True, startangle=90)\n",
    "\n",
    "#df.sum().plot(kind='pie', autopct='%1.0f%%', y='points')\n",
    "\n",
    "plt.title('Spot & Flex Coin Division',x=0.5, y=0.5)\n",
    "plt.axis('equal')\n",
    "plt.legend().remove()\n",
    "plt.show()"
   ]
  },
  {
   "cell_type": "code",
   "execution_count": null,
   "metadata": {
    "cellView": "form",
    "colab": {
     "base_uri": "https://localhost:8080/",
     "height": 319
    },
    "id": "vc_YLyP7a3p0",
    "outputId": "3d704299-0f22-4338-f735-7553973a9133"
   },
   "outputs": [],
   "source": [
    "#@title - Coins / Simple Earn Flexible Balance Values :  > 10\n",
    "import matplotlib.pyplot as plt\n",
    "\n",
    "df_sa_condense = subflex_bin.sort_values(by=['Stock-value'], ascending=False)\n",
    "df_sa_condense = df_sa_condense[df_sa_condense['Stock-value'] > 10]\n",
    "df_sa_condense.reset_index(inplace=True) \n",
    "\n",
    "values = round(df_sa_condense['Stock-value'],2).tolist()\n",
    "bar_labels = df_sa_condense['Symbol'].tolist()\n",
    "coin = df_sa_condense['Symbol'].tolist()\n",
    "\n",
    "\n",
    "# function to add value labels\n",
    "def addlabels(x,y):\n",
    "    for i in range(len(x)):\n",
    "        plt.text(i,y[i],y[i])\n",
    "\n",
    "fig, ax = plt.subplots()\n",
    "\n",
    "data_color = [x / max(values) for x in values]\n",
    "bar_colors = plt.cm.rainbow(data_color)\n",
    "# bar_colors = ['tab:red', 'tab:blue', 'tab:red', 'tab:orange']\n",
    "\n",
    "ax.bar(coin, values, label=bar_labels, color=bar_colors)\n",
    "\n",
    "ax.set_ylabel('Stock Value')\n",
    "ax.set_title('Bin. Spot & Flex Coin Values')\n",
    "# ax.legend(title='Coin')\n",
    "\n",
    "# calling the function to add value labels\n",
    "addlabels(coin, values)\n",
    "\n",
    "plt.rcParams[\"figure.figsize\"] = (30, 10)\n",
    "plt.autoscale\n",
    "plt.xlabel('values')\n",
    "\n",
    "\n",
    "plt.show()"
   ]
  },
  {
   "cell_type": "markdown",
   "metadata": {
    "id": "C7dgWNW__j_x"
   },
   "source": [
    "## 3. Cleanup"
   ]
  },
  {
   "cell_type": "markdown",
   "metadata": {
    "id": "UTGrCEBdQGQi"
   },
   "source": [
    "Datas may take some place in th compurter memory so let's cleanup"
   ]
  },
  {
   "cell_type": "code",
   "execution_count": null,
   "metadata": {
    "cellView": "form",
    "id": "P86oZZvbP340"
   },
   "outputs": [],
   "source": [
    "#@title - delete DataFrames to Release Memory :\n",
    "# del df_MA, df_list\n",
    "# ... or kill python at the end"
   ]
  },
  {
   "cell_type": "markdown",
   "metadata": {
    "id": "x-D0UDTwP18x"
   },
   "source": [
    "## 4. Thank you"
   ]
  },
  {
   "cell_type": "markdown",
   "metadata": {
    "id": "NHXPAuZ7_j_y"
   },
   "source": [
    "### Disclaimer\n",
    "I am not a financial advisor, this document is not a financial advisement. \n",
    "Do not take anything as financial advice, ever.\n",
    "Make your own research\n",
    "This document has no official link with FTX\n",
    "\n",
    "### SAFeti\n",
    "- Make sure you never give or show your seed phrases to someone else, don't store it on your computer NEVER ! I know someone that has been hacked I can tell you.\n",
    "\n",
    "- Nobody should ask you to see them\n",
    "- Never scommunicate your API key to someone and reset them frequently.\n",
    "\n",
    "### Advisory General condition\n",
    "- I am not responsable of any trouble, any lost, any problem occured on you material and your computing.\n",
    "- This document is free to use, your are not engage in any contract using it\n",
    "- I am not responsable of the good working, installation, update, or any further troubleshoot on your process.\n",
    "- you are responsible of what you are doing using this document\n",
    "\n",
    "### Tips\n",
    "This document is free to allow the community to make aknowledgement, and help to manage the coin in FTX process.\n",
    "I am not in any contract with any financial company, and I am not representing anyone but me, myself and I.\n",
    "\n",
    "I just think if we can help each other we will offer a better world.\n",
    "\n",
    "This has taken some times of work, and make you save your time. \n",
    "\n",
    "Thank you for your encouragement, your support and your tips :\n",
    "\n",
    "BTC : `bc1qxpmknuwuy967l7x5ty9qs7jl7mtjuv5cs8cdq4`\n",
    "\n",
    "0,0005 BTC seams fair\n",
    "\n",
    "ETH :\n",
    "`0xE328D3924B635dFFc719159b075086b324FFE931`\n",
    "\n",
    "0,007 ETH seems fair\n",
    "\n",
    "### Thanks\n",
    "To the coummunity, to youtubers, to Satoshi N., my familly to support me during this work etc..."
   ]
  },
  {
   "cell_type": "code",
   "execution_count": null,
   "metadata": {
    "cellView": "form",
    "id": "6OartbHh_j_z"
   },
   "outputs": [],
   "source": [
    "#@title Chapter Stop\n",
    "# %%html\n",
    "# </details>\n"
   ]
  }
 ],
 "metadata": {
  "colab": {
   "collapsed_sections": [
    "NG6GP_H-bCGb",
    "pTHMa_U65WNR",
    "oVh-T-LfbWdQ",
    "dVdwMq-2LhCk",
    "NZP2MlnVPair",
    "bclvKmDcnkQ_",
    "CJJ8s4fKoPge",
    "_8QPQOlo7tKN",
    "8b9C4CVb7tKO",
    "QFdwlI-hy1pO",
    "xkHeFRFdcGBd",
    "g8fqkMBMve2p",
    "0mWcKOFlvkrM",
    "I931J5A1vqvp",
    "c2zVVBfkHk5k",
    "C7dgWNW__j_x",
    "x-D0UDTwP18x",
    "NHXPAuZ7_j_y"
   ],
   "provenance": []
  },
  "kernelspec": {
   "display_name": "Python 3 (ipykernel)",
   "language": "python",
   "name": "python3"
  },
  "language_info": {
   "codemirror_mode": {
    "name": "ipython",
    "version": 3
   },
   "file_extension": ".py",
   "mimetype": "text/x-python",
   "name": "python",
   "nbconvert_exporter": "python",
   "pygments_lexer": "ipython3",
   "version": "3.9.13"
  },
  "toc": {
   "base_numbering": 1,
   "nav_menu": {},
   "number_sections": true,
   "sideBar": true,
   "skip_h1_title": false,
   "title_cell": "Table of Contents",
   "title_sidebar": "Contents",
   "toc_cell": false,
   "toc_position": {},
   "toc_section_display": true,
   "toc_window_display": false
  },
  "toc-autonumbering": false,
  "varInspector": {
   "cols": {
    "lenName": 16,
    "lenType": 16,
    "lenVar": 40
   },
   "kernels_config": {
    "python": {
     "delete_cmd_postfix": "",
     "delete_cmd_prefix": "del ",
     "library": "var_list.py",
     "varRefreshCmd": "print(var_dic_list())"
    },
    "r": {
     "delete_cmd_postfix": ") ",
     "delete_cmd_prefix": "rm(",
     "library": "var_list.r",
     "varRefreshCmd": "cat(var_dic_list()) "
    }
   },
   "types_to_exclude": [
    "module",
    "function",
    "builtin_function_or_method",
    "instance",
    "_Feature"
   ],
   "window_display": false
  }
 },
 "nbformat": 4,
 "nbformat_minor": 1
}
